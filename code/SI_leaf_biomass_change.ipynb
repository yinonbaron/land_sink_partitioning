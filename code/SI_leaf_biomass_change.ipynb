{
 "cells": [
  {
   "cell_type": "code",
   "execution_count": 88,
   "metadata": {},
   "outputs": [],
   "source": [
    "import pandas as pd\n",
    "import xarray as xr\n",
    "import rioxarray as rio\n",
    "import numpy as np\n",
    "from pyhdf.SD import SD, SDC"
   ]
  },
  {
   "cell_type": "markdown",
   "metadata": {},
   "source": [
    "# Estimate the rate of change in leaf biomass"
   ]
  },
  {
   "cell_type": "markdown",
   "metadata": {},
   "source": [
    "## Introduction"
   ]
  },
  {
   "cell_type": "markdown",
   "metadata": {},
   "source": [
    "## 1. Load data"
   ]
  },
  {
   "cell_type": "code",
   "execution_count": 112,
   "metadata": {},
   "outputs": [],
   "source": [
    "biome_LAI_change = pd.read_excel('../data/supplementary_analysis/leaf_biomass_change/bg-18-4985-2021-t02.xlsx')\n",
    "biome_LAI_change = biome_LAI_change.loc[[2,5,6,7,8,9,10,11]].set_index('Leaf area')\n",
    "biome_LAI_change = biome_LAI_change.rename(index={'Anthro. vegetation':'Croplands'})"
   ]
  },
  {
   "cell_type": "code",
   "execution_count": 90,
   "metadata": {},
   "outputs": [],
   "source": [
    "hdf = SD('../data/supplementary_analysis/leaf_biomass_change/MCD12C1.A2021001.061.2022217040006.hdf', SDC.READ)\n",
    "data2D = hdf.select('Majority_Land_Cover_Type_1')\n",
    "biome_map = xr.DataArray(data = data2D[:,:], coords={'y':np.linspace(90,-90,3600), 'x':np.linspace(-180,180,7200)}, dims=['y','x'])\n",
    "biome_map.rio.write_crs(4326, inplace=True);"
   ]
  },
  {
   "cell_type": "code",
   "execution_count": 101,
   "metadata": {},
   "outputs": [],
   "source": [
    "SLA_df = pd.read_csv('../data/supplementary_analysis/leaf_biomass_change/spat_1_pft_sla_large.csv')\n",
    "SLA = xr.Dataset.from_dataframe(SLA_df.set_index(['lat','lon'])[['mean']])['mean']\n",
    "LMA = 1000/SLA * 0.5 # convert m^2 kg (DW) to gC/m^2 \n",
    "LMA.rio.write_crs(4236,inplace=True);\n",
    "LMA = LMA.rename({'lat':'y','lon':'x'}).transpose('y', 'x')"
   ]
  },
  {
   "cell_type": "code",
   "execution_count": 92,
   "metadata": {},
   "outputs": [],
   "source": [
    "biome_mapping = pd.read_csv('../data/supplementary_analysis/leaf_biomass_change/winkler_biome_mapping.csv',skiprows=1)\n"
   ]
  },
  {
   "cell_type": "markdown",
   "metadata": {},
   "source": [
    "## 2. Run analysis"
   ]
  },
  {
   "cell_type": "code",
   "execution_count": 102,
   "metadata": {},
   "outputs": [],
   "source": [
    "\n",
    "biome_map_rs = biome_map.rio.reproject_match(LMA)\n",
    "biome_map_winkler = biome_map_rs.squeeze().copy()\n",
    "biome_map_winkler[:] = biome_mapping['Biome'].values[biome_map_winkler]\n",
    "biome_names = biome_mapping[['Biome','Biome name']].set_index('Biome').drop_duplicates()\n",
    "LMA['biome'] = biome_map_winkler\n",
    "biome_LMA_mean = LMA.groupby('biome').mean().drop_vars(['spatial_ref']).to_dataframe(name='LMA').merge(biome_names,left_index=True,right_index=True)"
   ]
  },
  {
   "cell_type": "code",
   "execution_count": 103,
   "metadata": {},
   "outputs": [
    {
     "data": {
      "text/html": [
       "<div>\n",
       "<style scoped>\n",
       "    .dataframe tbody tr th:only-of-type {\n",
       "        vertical-align: middle;\n",
       "    }\n",
       "\n",
       "    .dataframe tbody tr th {\n",
       "        vertical-align: top;\n",
       "    }\n",
       "\n",
       "    .dataframe thead th {\n",
       "        text-align: right;\n",
       "    }\n",
       "</style>\n",
       "<table border=\"1\" class=\"dataframe\">\n",
       "  <thead>\n",
       "    <tr style=\"text-align: right;\">\n",
       "      <th></th>\n",
       "      <th>LMA</th>\n",
       "      <th>Biome name</th>\n",
       "    </tr>\n",
       "  </thead>\n",
       "  <tbody>\n",
       "    <tr>\n",
       "      <th>1</th>\n",
       "      <td>36.433162</td>\n",
       "      <td>Boreal Forests</td>\n",
       "    </tr>\n",
       "    <tr>\n",
       "      <th>2</th>\n",
       "      <td>62.335674</td>\n",
       "      <td>Tropical Forests</td>\n",
       "    </tr>\n",
       "    <tr>\n",
       "      <th>3</th>\n",
       "      <td>36.801805</td>\n",
       "      <td>Temperate Forests</td>\n",
       "    </tr>\n",
       "    <tr>\n",
       "      <th>4</th>\n",
       "      <td>50.465481</td>\n",
       "      <td>Shrublands</td>\n",
       "    </tr>\n",
       "    <tr>\n",
       "      <th>5</th>\n",
       "      <td>39.546450</td>\n",
       "      <td>Savannas</td>\n",
       "    </tr>\n",
       "    <tr>\n",
       "      <th>6</th>\n",
       "      <td>33.196343</td>\n",
       "      <td>Grasslands</td>\n",
       "    </tr>\n",
       "    <tr>\n",
       "      <th>7</th>\n",
       "      <td>35.423873</td>\n",
       "      <td>Croplands</td>\n",
       "    </tr>\n",
       "    <tr>\n",
       "      <th>8</th>\n",
       "      <td>33.820144</td>\n",
       "      <td>Others</td>\n",
       "    </tr>\n",
       "  </tbody>\n",
       "</table>\n",
       "</div>"
      ],
      "text/plain": [
       "         LMA         Biome name\n",
       "1  36.433162     Boreal Forests\n",
       "2  62.335674   Tropical Forests\n",
       "3  36.801805  Temperate Forests\n",
       "4  50.465481         Shrublands\n",
       "5  39.546450           Savannas\n",
       "6  33.196343         Grasslands\n",
       "7  35.423873          Croplands\n",
       "8  33.820144             Others"
      ]
     },
     "execution_count": 103,
     "metadata": {},
     "output_type": "execute_result"
    }
   ],
   "source": [
    "biome_LMA_mean"
   ]
  },
  {
   "cell_type": "code",
   "execution_count": 122,
   "metadata": {},
   "outputs": [],
   "source": [
    "merged_df = biome_LAI_change.merge(biome_LMA_mean.set_index('Biome name'),left_index=True,right_index=True,how='left')\n",
    "merged_df.loc['Tundra','LMA'] = merged_df.loc['Grasslands','LMA']"
   ]
  },
  {
   "cell_type": "code",
   "execution_count": 123,
   "metadata": {},
   "outputs": [],
   "source": [
    "leaf_biomass_change = (merged_df['Net leaf area change']*1e9*merged_df['LMA']/1e15)"
   ]
  },
  {
   "cell_type": "code",
   "execution_count": 131,
   "metadata": {},
   "outputs": [
    {
     "data": {
      "text/plain": [
       "Tundra               0.000168\n",
       "Boreal Forests       0.000643\n",
       "Savannas             0.000895\n",
       "Shrublands           0.001238\n",
       "Tropical Forests     0.001503\n",
       "Temperate Forests    0.001688\n",
       "Croplands            0.002578\n",
       "Grasslands           0.006156\n",
       "dtype: object"
      ]
     },
     "execution_count": 131,
     "metadata": {},
     "output_type": "execute_result"
    }
   ],
   "source": [
    "leaf_and_herb_biomass_change.sort_values()"
   ]
  },
  {
   "cell_type": "code",
   "execution_count": 127,
   "metadata": {},
   "outputs": [
    {
     "data": {
      "text/plain": [
       "Savannas      1.642\n",
       "Shrublands    2.887\n",
       "Grasslands    5.224\n",
       "Croplands     1.200\n",
       "dtype: float64"
      ]
     },
     "execution_count": 127,
     "metadata": {},
     "output_type": "execute_result"
    }
   ],
   "source": [
    "(1+RS_ratio)"
   ]
  },
  {
   "cell_type": "code",
   "execution_count": 124,
   "metadata": {},
   "outputs": [
    {
     "name": "stderr",
     "output_type": "stream",
     "text": [
      "/tmp/ipykernel_2348834/376996825.py:4: FutureWarning: Downcasting object dtype arrays on .fillna, .ffill, .bfill is deprecated and will change in a future version. Call result.infer_objects(copy=False) instead. To opt-in to the future behavior, set `pd.set_option('future.no_silent_downcasting', True)`\n",
      "  leaf_and_herb_biomass_change = leaf_biomass_change+(leaf_biomass_change*RS_ratio).fillna(0)\n"
     ]
    }
   ],
   "source": [
    "# from https://www.nature.com/articles/s41597-020-0444-4/tables/6\n",
    "# use 0.2 for croplands based on table 2 for maize and wheat\n",
    "RS_ratio = pd.Series([0.642,1.887,4.224,0.2],index=['Savannas','Shrublands','Grasslands','Croplands'])\n",
    "leaf_and_herb_biomass_change = leaf_biomass_change+(leaf_biomass_change*RS_ratio).fillna(0)"
   ]
  },
  {
   "cell_type": "code",
   "execution_count": 125,
   "metadata": {},
   "outputs": [
    {
     "data": {
      "text/plain": [
       "0.014869746552940767"
      ]
     },
     "execution_count": 125,
     "metadata": {},
     "output_type": "execute_result"
    }
   ],
   "source": [
    "leaf_and_herb_biomass_change.sum()\n"
   ]
  }
 ],
 "metadata": {
  "kernelspec": {
   "display_name": ".venv",
   "language": "python",
   "name": "python3"
  },
  "language_info": {
   "codemirror_mode": {
    "name": "ipython",
    "version": 3
   },
   "file_extension": ".py",
   "mimetype": "text/x-python",
   "name": "python",
   "nbconvert_exporter": "python",
   "pygments_lexer": "ipython3",
   "version": "3.11.9"
  }
 },
 "nbformat": 4,
 "nbformat_minor": 2
}
