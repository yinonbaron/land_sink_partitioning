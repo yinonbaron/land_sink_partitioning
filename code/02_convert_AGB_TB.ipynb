{
 "cells": [
  {
   "cell_type": "code",
   "execution_count": 1,
   "metadata": {},
   "outputs": [],
   "source": [
    "import xarray as xr\n",
    "import rioxarray as rio\n",
    "from rasterio.enums import Resampling\n",
    "from glob import glob\n",
    "import os\n",
    "from tqdm import tqdm\n",
    "from utils import *"
   ]
  },
  {
   "cell_type": "markdown",
   "metadata": {},
   "source": [
    "# Convert above ground biomass to total biomass"
   ]
  },
  {
   "cell_type": "markdown",
   "metadata": {},
   "source": [
    "## 1. Introduction"
   ]
  },
  {
   "cell_type": "markdown",
   "metadata": {},
   "source": [
    "## 2. Load data"
   ]
  },
  {
   "cell_type": "markdown",
   "metadata": {},
   "source": [
    "### 2.1. Above to below ground biomass ratios"
   ]
  },
  {
   "cell_type": "markdown",
   "metadata": {},
   "source": [
    "#### [Ma et al. (2021)](https://www.nature.com/articles/s41559-021-01485-1)"
   ]
  },
  {
   "cell_type": "code",
   "execution_count": 2,
   "metadata": {},
   "outputs": [],
   "source": [
    "# load Merged Ma et al. data and grass data\n",
    "ma_data = rio.open_rasterio('../results/00_preprocessing/ma_et_al_processed_all.nc',masked=True).sel(band=1)\n",
    "ma_grass = rio.open_rasterio('../results/00_preprocessing/ma_et_al_processed.nc',masked=True).sel(landcover='grass')\n",
    "\n",
    "# take the Ma et al. data where the land cover is not grass (because our product cover woody vegetation)\n",
    "ma_data = ma_data.where(ma_grass.isnull())\n",
    "\n",
    "# convert from percent to fraction\n",
    "ma_data.data = ma_data.data/100\n",
    "\n",
    "# set the no data to nan\n",
    "ma_data.rio.write_nodata(np.nan,inplace=True)\n",
    "\n",
    "# interpolate missing values based on close valid values\n",
    "ma_data = ma_data.rio.interpolate_na(method='linear')\n",
    "\n",
    "# concatenate forest and nonforest landcovers\n",
    "ma_data = xr.concat([ma_data,ma_data],dim='landcover').transpose('landcover','y','x')\n",
    "\n",
    "# set the land cover names\n",
    "ma_data['landcover'] = ['forest','nonforest']"
   ]
  },
  {
   "cell_type": "markdown",
   "metadata": {},
   "source": [
    "#### [Huang et al. (2021)](https://essd.copernicus.org/articles/13/4263/2021/)"
   ]
  },
  {
   "cell_type": "code",
   "execution_count": 3,
   "metadata": {},
   "outputs": [],
   "source": [
    "# load data\n",
    "huang_data = rio.open_rasterio('../results/00_preprocessing/huang_et_al_processed.nc',masked=True).sel(band=1)\n",
    "\n",
    "# duplicate the data to be both for forest and nonforest\n",
    "huang_data = xr.concat([huang_data,huang_data],dim='landcover')\n",
    "huang_data['landcover'] = ['forest','nonforest']"
   ]
  },
  {
   "cell_type": "markdown",
   "metadata": {},
   "source": [
    "### Regions"
   ]
  },
  {
   "cell_type": "code",
   "execution_count": 4,
   "metadata": {},
   "outputs": [],
   "source": [
    "# load GFED regions\n",
    "GFED_regions = rio.open_rasterio('../data/regions_data/GFED/GFED5_Beta_monthly_2002.nc',variable='basisregions').sel(band=1)['basisregions'].drop_vars('band')\n",
    "GFED_regions.rio.write_crs(4326,inplace=True);\n",
    "\n",
    "# replace 0 values with NaN\n",
    "GFED_regions = GFED_regions.where(GFED_regions!=0)\n",
    "\n",
    "# set the nodata value to NaN\n",
    "GFED_regions.rio.write_nodata(np.nan,inplace=True);\n",
    "\n",
    "# load the names of each region\n",
    "GFED_region_names = pd.read_excel('../data/biomass/besnard_et_al_2021/data.xlsx',sheet_name='region_names')"
   ]
  },
  {
   "cell_type": "markdown",
   "metadata": {},
   "source": [
    "## 3. Define functions for analysis"
   ]
  },
  {
   "cell_type": "markdown",
   "metadata": {},
   "source": [
    "### 3.1. For gridded data sources"
   ]
  },
  {
   "cell_type": "code",
   "execution_count": 5,
   "metadata": {},
   "outputs": [],
   "source": [
    "def analyze_gridded(AGB:xr.DataArray,RMF:xr.DataArray) -> xr.DataArray:\n",
    "    '''\n",
    "    This function calculates the total biomass from the AGB and RMF data.\n",
    "    The function first reprojects the RMF data to match the AGB data.\n",
    "    Then it calculates the conversion factor from AGB to total biomass according to the formula 1/(1-RMF).\n",
    "    Finally, it calculates the total biomass by multiplying the AGB data by the conversion factor.\n",
    "\n",
    "    Parameters:\n",
    "    AGB (xr.DataArray): The above ground biomass data.\n",
    "    RMF (xr.DataArray): The root mass fraction data.\n",
    "\n",
    "    Returns:\n",
    "    xr.DataArray: The total biomass data.\n",
    "    '''\n",
    "\n",
    "    # reproject RMF data to match AGB data\n",
    "    RMF = RMF.rio.reproject_match(AGB,nodata=np.nan)    \n",
    "\n",
    "    # calculate conversion factor - fill NaN values with 1   \n",
    "    conversion = (1/(1-RMF)).fillna(1)\n",
    "\n",
    "    # calculate total biomass\n",
    "    total_biomass = AGB*conversion\n",
    "    \n",
    "    return total_biomass"
   ]
  },
  {
   "cell_type": "markdown",
   "metadata": {},
   "source": [
    "### 3.2. For regional data sources"
   ]
  },
  {
   "cell_type": "code",
   "execution_count": 6,
   "metadata": {},
   "outputs": [],
   "source": [
    "def analyze_regional(biomass:pd.DataFrame, regions:xr.DataArray, RMF:xr.DataArray, metadata:pd.DataFrame) -> pd.DataFrame:\n",
    "    '''\n",
    "    Calculate the conversion factor from AGB to TB for each region and apply over the biomass for each region and landcover for each year.\n",
    "\n",
    "    Parameters:\n",
    "    biomass: pd.DataFrame\n",
    "        DataFrame with index 'region','landcover' columns 'time' giving the biomass values\n",
    "    regions: xr.DataArray\n",
    "        2D array with region ids\n",
    "    RMF: xr.DataArray\n",
    "        2D array with RMF values\n",
    "    metadata: pd.DataFrame\n",
    "        DataFrame with columns 'id' and 'name' giving the region names\n",
    "\n",
    "    Returns:\n",
    "    pd.DataFrame\n",
    "        DataFrame with columns 'name' and 'landcover' and values the conversion factor from AGB to TB\n",
    "\n",
    "    '''\n",
    "\n",
    "    # reproject RMF data to match regions data\n",
    "    RMF = RMF.rio.reproject_match(regions,nodata=np.nan)\n",
    "\n",
    "    # create a merged dataset with RMF scaled by surface area (for an area-weighted mean), region ids and the surface area\n",
    "    merged_ds = (RMF*calc_area(RMF)).to_dataset(name='RMF')\n",
    "    merged_ds['id'] = regions\n",
    "    merged_ds['area'] = calc_area(RMF).where(RMF.notnull())\n",
    "\n",
    "    # group by region id and calculate the sum of RMF and area\n",
    "    merged_ds = merged_ds.set_coords('id')\n",
    "    ds_zonal_sum = merged_ds.groupby('id').sum()\n",
    "\n",
    "    # normalize RMF by total area to get the mean RMF for each region and convert to DataFrame\n",
    "    zonal_sum_df =(ds_zonal_sum['RMF']/ds_zonal_sum['area']).to_dataframe(name='RMF')\n",
    "\n",
    "    # merge the DataFrame with the names of each region\n",
    "    zonal_sum_df = zonal_sum_df.reset_index().merge(metadata.reset_index()[['name','id']],on='id')\n",
    "\n",
    "    # set index to region name and landcover\n",
    "    zonal_sum_df = zonal_sum_df.set_index(['name','landcover'])['RMF']\n",
    "\n",
    "    # calculate the regional conversion factor based on the formula 1/(1-RMF)\n",
    "    conversion = 1/(1-zonal_sum_df)\n",
    "\n",
    "    # name the index levels\n",
    "    conversion.index.names = ['region','landcover']\n",
    "\n",
    "    # apply the conversion factor to the biomass data\n",
    "    result = biomass.mul(conversion,axis=0)\n",
    "\n",
    "    return result"
   ]
  },
  {
   "cell_type": "markdown",
   "metadata": {},
   "source": [
    "## 4. Run analysis\n",
    "\n",
    "The data sources that report only above ground biomass are:\n",
    "1. Liu et al. (2015)\n",
    "2. L-VOD data\n",
    "3. Besnard et al. (2021)"
   ]
  },
  {
   "cell_type": "markdown",
   "metadata": {},
   "source": [
    "### 4.1. For gridded data sources\n",
    "\n",
    "The gridded data sources that report only above ground biomass are:\n",
    "1. Liu et al. (2015)\n",
    "2. L-VOD data"
   ]
  },
  {
   "cell_type": "code",
   "execution_count": 7,
   "metadata": {},
   "outputs": [
    {
     "name": "stderr",
     "output_type": "stream",
     "text": [
      "100%|██████████| 18/18 [01:38<00:00,  5.47s/it]\n"
     ]
    }
   ],
   "source": [
    "# find all gridded files from previous stage\n",
    "files = glob('../results/01_split_forest_nonforest/*.nc')\n",
    "\n",
    "# loop over all files\n",
    "for file in tqdm(files):\n",
    "    # load the data\n",
    "    data = xr.open_dataarray(file)\n",
    "    # if the file is from the Liu et al. or LVOD data\n",
    "    if ('/liu_' in file) | ('/LVOD' in file):    \n",
    "        # for each RMF data source\n",
    "        for RMF,rmf_name in zip([ma_data,huang_data],['ma','huang']):\n",
    "            # analyze the data\n",
    "            result = analyze_gridded(data,RMF)\n",
    "\n",
    "            # define the output file name\n",
    "            out_file = file.replace('.nc',f'_{rmf_name}_TB.nc').replace('01_split_forest_nonforest','02_convert_AGB_TB')\n",
    "\n",
    "            # save the data\n",
    "            result.to_netcdf(out_file)\n",
    "    else:\n",
    "        # define the output file name\n",
    "        out_file = file.replace('.nc','_TB.nc').replace('01_split_forest_nonforest','02_convert_AGB_TB')\n",
    "    \n",
    "        # save the data\n",
    "        data.to_netcdf(out_file)"
   ]
  },
  {
   "cell_type": "markdown",
   "metadata": {},
   "source": [
    "### 4.2. For regional data sources\n",
    "\n",
    "The only data source that is regional is Besnard et al. (2021)."
   ]
  },
  {
   "cell_type": "code",
   "execution_count": 8,
   "metadata": {},
   "outputs": [],
   "source": [
    "# load Besnard et al. data\n",
    "besnard_data = pd.read_csv('../results/01_split_forest_nonforest/besnard_biomass_regional.csv',index_col=[0,1]).unstack('landcover').stack(future_stack=True)\n",
    "besnard_data.columns.name = 'time'\n",
    "\n",
    "for RMF,rmf_name in zip([ma_data,huang_data],['ma','huang']):\n",
    "    # calculate the total biomass for each region\n",
    "    result = analyze_regional(biomass   =besnard_data,\n",
    "                              regions   =GFED_regions,\n",
    "                              RMF       =RMF,\n",
    "                              metadata  =GFED_region_names)\n",
    "\n",
    "    result.to_csv(f'../results/02_convert_AGB_TB/besnard_biomass_regional_{rmf_name}_TB.csv')"
   ]
  }
 ],
 "metadata": {
  "kernelspec": {
   "display_name": ".venv",
   "language": "python",
   "name": "python3"
  },
  "language_info": {
   "codemirror_mode": {
    "name": "ipython",
    "version": 3
   },
   "file_extension": ".py",
   "mimetype": "text/x-python",
   "name": "python",
   "nbconvert_exporter": "python",
   "pygments_lexer": "ipython3",
   "version": "3.11.9"
  }
 },
 "nbformat": 4,
 "nbformat_minor": 2
}
