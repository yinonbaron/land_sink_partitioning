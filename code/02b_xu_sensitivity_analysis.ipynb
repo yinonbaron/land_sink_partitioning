{
 "cells": [
  {
   "cell_type": "code",
   "execution_count": 1,
   "metadata": {},
   "outputs": [],
   "source": [
    "import xarray as xr\n",
    "import rioxarray as rio\n",
    "from utils import *\n",
    "from typing import Tuple\n",
    "from glob import glob\n",
    "from tqdm import tqdm"
   ]
  },
  {
   "cell_type": "markdown",
   "metadata": {},
   "source": [
    "# Preform a sensitivity analysis to remote sensing data saturation at high biomass densities"
   ]
  },
  {
   "cell_type": "markdown",
   "metadata": {},
   "source": [
    "## 1. Introduction\n",
    "\n",
    "One possible bias in remote sensing data is the saturation of the signal at high biomass densities. This means that in dense forests, we will not be able to detect small but persistent growth in living biomass. \n",
    "\n",
    "To test the impact of such a bias, we perform a sensitivity analysis according to the method used in [Xu et al. (2021)](https://www.science.org/doi/10.1126/sciadv.abe9829). We apply this method to gridded datasets that report absolute biomass densities. These are:\n",
    "1. Xu et al.\n",
    "\n",
    "2. Liu et al.\n",
    "\n",
    "3. Chen et al.\n",
    "\n",
    "4. L-VOD data"
   ]
  },
  {
   "cell_type": "markdown",
   "metadata": {},
   "source": [
    "### 1.1 Methodology summary\n",
    "\n",
    "The approach applies a biomass density cutoff to define a \"dense forest\", and then applies a constant growth rate to the biomass density in these forests. \n",
    "\n",
    "The growth rates are taken from Table S4 of [Xu et al. (2021)](https://www.science.org/doi/10.1126/sciadv.abe9829) and are defined for different ecosystems.\n",
    "\n",
    "To take into account disturbance in dense forests, the method calculates the area impacted by disturbance in dense forests per year. The growth rates are applied only to areas which have not been disturbed. \n",
    "\n",
    "We calculate the fraction of disturbed area using the following approach. Xu et al. report the total emissions from deforestation $E_C$, forest degradation $E_{FD}$, and fire in forests and nonforests $E_{Fire}$. As reported in Xu et al., the way these emissions are calculated is (for example for forest degradation):\n",
    "\n",
    "$$E_{FD_i}=PDA_i \\times C_i \\times f_D$$\n",
    "\n",
    "Where $PDA_i$ is the proportion of disturbed area in grid cell $i$, $C_i$ is the carbon density in grid cell $i$, and $f_D$ is the fraction of carbon loss per grid cell due to forest degradation.\n",
    "\n",
    "This means that we can calculate from the emissions $E_{FD_i}$ the proportion of disturbed area in each grid cell $PDA_i$ using the following equation:\n",
    "$$PDA_i = \\frac{E_{FD_i}}{C_i \\times f_D}$$\n",
    "\n",
    "This is an example for forest degregation, but the same holds for PCA and PBA."
   ]
  },
  {
   "cell_type": "markdown",
   "metadata": {},
   "source": [
    "## 2. Load data"
   ]
  },
  {
   "cell_type": "code",
   "execution_count": 2,
   "metadata": {},
   "outputs": [],
   "source": [
    "# biomass stocks data\n",
    "xu_data = rio.open_rasterio('../data/biomass/xu_et_al_2021/test10a_cd_ab_pred_corr_2000_2019_v2.tif')\n",
    "xu_data['time'] = xu_data.time.dt.year\n",
    "\n",
    "# emissions from disturbance data\n",
    "fire_data = rio.open_rasterio('../data/land_cover/xu_et_al_2021/fireforest_emission_0119_v2_inTg.tif',masked=True).rename({'band':'time'})\n",
    "fire_nonforest_data = rio.open_rasterio('../data/land_cover/xu_et_al_2021/firenonforest_emission_0119_v2_inTg.tif',masked=True).rename({'band':'time'})\n",
    "deforestation_data = rio.open_rasterio('../data/land_cover/xu_et_al_2021/deforestation_emission_0119_v2_inTg.tif',masked=True).rename({'band':'time'})\n",
    "degradation_data = rio.open_rasterio('../data/land_cover/xu_et_al_2021/degradation_emission_0119_v2_inTg.tif',masked=True).rename({'band':'time'})\n",
    "\n",
    "# region definitions for growth rates\n",
    "xu_regions = rio.open_rasterio('../data/regions_data/xu_et_al_2021/global_ecoregions.tif').sel(band=1)\n",
    "\n",
    "# replace regions 0,15, and 16 with NaN and convert values to start from 0\n",
    "xu_regions = xr.where(xu_regions.isin([0,15,16]),np.nan,xu_regions-101)\n",
    "xu_regions.rio.write_crs('EPSG:4326',inplace=True);\n",
    "\n",
    "\n",
    "# growth rate data for mature forests\n",
    "growth_rates = pd.read_csv('../data/biomass/xu_et_al_2021/table_s4.csv')\n",
    "\n",
    "# set up a map of growth rates\n",
    "growth_rate_map = xr.zeros_like(xu_data[0,:,:])\n",
    "\n",
    "# set growth rates for each region\n",
    "regional_growth_rate = -1*np.concatenate([growth_rates.set_index('code')['Growth rate [Mg/ha/yr]'].values,np.array([np.nan])])\n",
    "\n",
    "# fill in the values in the growth rate map based on the regional_growth_rate indices\n",
    "growth_rate_map.data = regional_growth_rate[xu_regions.fillna(growth_rates.shape[0]).values.astype(int)]"
   ]
  },
  {
   "cell_type": "markdown",
   "metadata": {},
   "source": [
    "## 3. Define functions for analysis"
   ]
  },
  {
   "cell_type": "code",
   "execution_count": 3,
   "metadata": {},
   "outputs": [],
   "source": [
    "def analyze_dataset_old(ds:xr.DataArray, growth_rate_map:xr.DataArray, disturbances:xr.DataArray)->Tuple[xr.DataArray,xr.DataArray]:\n",
    "    \"\"\"\n",
    "    This function calculates the total biomass stocks assuming that \"dense forests\" (defined according to two thresholds - 100 and 200 Mg/ha) are growing at a constant rate.\n",
    "    The growth rates are defined in the `growth_rate_map` variable. \n",
    "    From the base growth rate, we remove area that was affected by disturbance, defined by the `disturbances` varaible.\n",
    "    \n",
    "    Parameters:\n",
    "    ds (xr.DataArray): the dataset containing the biomass stocks\n",
    "    growth_rate_map (xr.DataArray): the map of growth rates\n",
    "    disturbances (xr.DataArray): the map of disturbances\n",
    "\n",
    "    Returns:\n",
    "    (xr.DataArray,xr.DataArray): the biomass stocks in dense forests for the 100 Mg/ha and 200 Mg/ha thresholds\n",
    "    \"\"\"\n",
    "    \n",
    "\n",
    "    # define the mask for the 100 and 200 Mg/ha thresholds for \"dense forests\"\n",
    "    mask_200 = ds.where(ds.sum(dim='landcover')>200)\n",
    "    mask_100 = ds.where(ds.sum(dim='landcover')>100)\n",
    "\n",
    "    # define the base map for the growth rates\n",
    "    base_map = xr.zeros_like(ds.sel(time=ds['time'].values[0]))\n",
    "\n",
    "    # reproject the growth rate map and disturbances to match the dataset\n",
    "    gm = growth_rate_map.rio.reproject_match(ds)\n",
    "    dist_map = disturbances.rio.reproject_match(ds)\n",
    "\n",
    "    # fill in missing years in the disturbance map\n",
    "    missing_years = list(set(ds['time'].values).difference(set(dist_map['time'].values)))\n",
    "    if len(missing_years)>0:\n",
    "        dist_map = xr.concat([dist_map,dist_map.interp(time=missing_years)],dim='time').sortby('time')\n",
    "        dist_map = dist_map.bfill('time')\n",
    "\n",
    "    # calculate the biomass accumulated in undisturbed dense forests\n",
    "    intact_changes = xr.concat([base_map+gm*i for i in (ds['time']-ds['time'][0]).values],dim='time').transpose('landcover','time','y','x')\n",
    "    intact_changes['time'] = ds['time']\n",
    "\n",
    "    # apply the growth rates to the forest and nonforest fractions of the map based on their relative biomass contribution\n",
    "    intact_changes = intact_changes*(ds/ds.sum(dim='landcover'))\n",
    "\n",
    "    # remove from the \"dense forests\" the area fraction lost to disturbances\n",
    "    intact_changes_disturbances = intact_changes.copy()\n",
    "    intact_changes_disturbances[:,1:,:,:] = intact_changes_disturbances[:,1:,:,:]*(1-dist_map.fillna(0))\n",
    "\n",
    "    # calculate the \"dense forest\" biomass using the stocks from the first year and the accumulated biomass\n",
    "    mask_h200_stocks = (intact_changes_disturbances + mask_200.sel(time=mask_200['time'].values[0]))\n",
    "    mask_h100_stocks = (intact_changes_disturbances + mask_100.sel(time=mask_100['time'].values[0]))\n",
    "\n",
    "    # define the \"non dense forest\" biomass\n",
    "    mask_l200_stocks = ds.where(ds.sel(time=ds['time'].values[0]).sum(dim='landcover')<200)\n",
    "    mask_l100_stocks = ds.where(ds.sel(time=ds['time'].values[0]).sum(dim='landcover')<100)\n",
    "\n",
    "    # sum the \"dense\" and \"non dense\" forest biomass\n",
    "    merged_100 = (mask_h100_stocks.fillna(0) + mask_l100_stocks.fillna(0)) + (ds-ds)\n",
    "    merged_200 = (mask_h200_stocks.fillna(0) + mask_l200_stocks.fillna(0)) + (ds-ds)\n",
    "\n",
    "    \n",
    "    return merged_100,merged_200"
   ]
  },
  {
   "cell_type": "code",
   "execution_count": 4,
   "metadata": {},
   "outputs": [],
   "source": [
    "def analyze_dataset(ds:xr.DataArray, growth_rate_map:xr.DataArray, disturbances:xr.DataArray)->Tuple[xr.DataArray,xr.DataArray]:\n",
    "    \"\"\"\n",
    "    This function calculates the total biomass stocks assuming that \"dense forests\" (defined according to two thresholds - 100 and 200 Mg/ha) are growing at a constant rate.\n",
    "    The growth rates are defined in the `growth_rate_map` variable. \n",
    "    From the base growth rate, we remove area that was affected by disturbance, defined by the `disturbances` varaible.\n",
    "    \n",
    "    Parameters:\n",
    "    ds (xr.DataArray): the dataset containing the biomass stocks\n",
    "    growth_rate_map (xr.DataArray): the map of growth rates\n",
    "    disturbances (xr.DataArray): the map of disturbances\n",
    "\n",
    "    Returns:\n",
    "    (xr.DataArray,xr.DataArray): the biomass stocks in dense forests for the 100 Mg/ha and 200 Mg/ha thresholds\n",
    "    \"\"\"\n",
    "    \n",
    "\n",
    "    # define the base map for the growth rates\n",
    "    base_map = xr.zeros_like(ds.sel(time=ds['time'].values[0]))\n",
    "\n",
    "    # reproject the growth rate map and disturbances to match the dataset\n",
    "    gm = growth_rate_map.rio.reproject_match(ds)\n",
    "    dist_map = disturbances.rio.reproject_match(ds)\n",
    "\n",
    "    # fill in missing years in the disturbance map\n",
    "    missing_years = list(set(ds['time'].values).difference(set(dist_map['time'].values)))\n",
    "    if len(missing_years)>0:\n",
    "        dist_map = xr.concat([dist_map,dist_map.interp(time=missing_years)],dim='time').sortby('time')\n",
    "        dist_map = dist_map.bfill('time')\n",
    "\n",
    "    # calculate the biomass accumulated in undisturbed dense forests\n",
    "    intact_changes = xr.concat([base_map+gm*i for i in (ds['time']-ds['time'][0]).values],dim='time').transpose('landcover','time','y','x')\n",
    "    intact_changes['time'] = ds['time']\n",
    "\n",
    "    # apply the growth rates to the forest and nonforest fractions of the map based on their relative biomass contribution\n",
    "    intact_changes = intact_changes*(ds/ds.sum(dim='landcover'))\n",
    "\n",
    "    # remove from the \"dense forests\" the area fraction lost to disturbances\n",
    "    intact_changes_disturbances = intact_changes.copy()\n",
    "    intact_changes_disturbances[:,1:,:,:] = intact_changes_disturbances[:,1:,:,:]*(1-dist_map.fillna(0))\n",
    "\n",
    "    # add the \"dense forest\" growth to the data\n",
    "    merged_100  = (intact_changes_disturbances.where(ds.sum(dim='landcover')>100).fillna(0) + ds)\n",
    "    merged_200  = (intact_changes_disturbances.where(ds.sum(dim='landcover')>200).fillna(0) + ds)\n",
    "    \n",
    "    # drop zero values\n",
    "    merged_100 = merged_100.where(merged_100!=0)\n",
    "    merged_200 = merged_200.where(merged_200!=0)\n",
    "    \n",
    "    return merged_100,merged_200\n",
    "\n"
   ]
  },
  {
   "cell_type": "code",
   "execution_count": 5,
   "metadata": {},
   "outputs": [],
   "source": [
    "def analyze_dataset_new(ds:xr.DataArray, growth_rate_map:xr.DataArray, disturbances:xr.DataArray)->Tuple[xr.DataArray,xr.DataArray]:\n",
    "    \"\"\"\n",
    "    This function calculates the total biomass stocks assuming that \"dense forests\" (defined according to two thresholds - 100 and 200 Mg/ha) are growing at a constant rate.\n",
    "    The growth rates are defined in the `growth_rate_map` variable. \n",
    "    From the base growth rate, we remove area that was affected by disturbance, defined by the `disturbances` varaible.\n",
    "    \n",
    "    Parameters:\n",
    "    ds (xr.DataArray): the dataset containing the biomass stocks\n",
    "    growth_rate_map (xr.DataArray): the map of growth rates\n",
    "    disturbances (xr.DataArray): the map of disturbances\n",
    "\n",
    "    Returns:\n",
    "    (xr.DataArray,xr.DataArray): the biomass stocks in dense forests for the 100 Mg/ha and 200 Mg/ha thresholds\n",
    "    \"\"\"\n",
    "    \n",
    "\n",
    "    base_map = xr.zeros_like(ds.sel(time=ds['time'].values[0]))\n",
    "\n",
    "    # reproject the growth rate map and disturbances to match the dataset\n",
    "    gm = growth_rate_map.rio.reproject_match(ds)\n",
    "    dist_map = disturbances.rio.reproject_match(ds)\n",
    "\n",
    "    # fill in missing years in the disturbance map\n",
    "    missing_years = list(set(ds['time'].values).difference(set(dist_map['time'].values)))\n",
    "    if len(missing_years)>0:\n",
    "        dist_map = xr.concat([dist_map,dist_map.interp(time=missing_years)],dim='time').sortby('time')\n",
    "        dist_map = dist_map.bfill('time')\n",
    "\n",
    "    # calculate the biomass accumulated in undisturbed dense forests\n",
    "    intact_changes = xr.concat([base_map+gm*i for i in (ds['time']-ds['time'][0]).values],dim='time').transpose('landcover','time','y','x')\n",
    "    intact_changes['time'] = ds['time']\n",
    "\n",
    "    # apply the growth rates to the forest and nonforest fractions of the map based on their relative biomass contribution\n",
    "    intact_changes = intact_changes*(ds/ds.sum(dim='landcover'))\n",
    "\n",
    "    # remove from the \"dense forests\" the area fraction lost to disturbances\n",
    "    intact_changes_disturbances = intact_changes.copy()\n",
    "    intact_changes_disturbances[:,1:,:,:] = intact_changes_disturbances[:,1:,:,:]*(1-dist_map.fillna(0))\n",
    "\n",
    "    \n",
    "    # sum the \"dense\" and \"non dense\" forest biomass\n",
    "    merged_100 = intact_changes_disturbances.where(ds.sum(dim='landcover')>100)+ds\n",
    "    merged_200 = intact_changes_disturbances.where(ds.sum(dim='landcover')>200)+ds\n",
    "\n",
    "    \n",
    "    return merged_100,merged_200"
   ]
  },
  {
   "cell_type": "markdown",
   "metadata": {},
   "source": [
    "## 4. Run analysis"
   ]
  },
  {
   "cell_type": "code",
   "execution_count": 6,
   "metadata": {},
   "outputs": [],
   "source": [
    "# convert total emissions (TgC/yr) to densities (MgC/ha/yr)\n",
    "def convert_emissions_to_density(da):\n",
    "     da = da*1e12/calc_pixel_area(da)/100\n",
    "     da['time'] = xu_data['time'][1:]\n",
    "     return da\n",
    "\n",
    "# calculate the emission density for each type of disturbance\n",
    "fire_density = convert_emissions_to_density(fire_data.fillna(0)+fire_nonforest_data.fillna(0))\n",
    "deforestation_density = convert_emissions_to_density(deforestation_data)\n",
    "degradation_density = convert_emissions_to_density(degradation_data)\n",
    "\n",
    "# factors from Xu et al.\n",
    "f_D = 0.07\n",
    "f_B = 0.3\n",
    "f_C = 1\n",
    "\n",
    "# calculate the area affected according to the equation presented in the introduction\n",
    "PDA = (degradation_density/xu_data/f_D).fillna(0)\n",
    "PCA = (deforestation_density/xu_data/f_C).fillna(0)\n",
    "PBA = (fire_density/xu_data/f_B).fillna(0)\n",
    "\n",
    "# sum all disturbances and make sure they are not greater than 1\n",
    "disturbances = PDA+PCA+PBA\n",
    "disturbances = xr.where(disturbances>1,1,disturbances)\n",
    "disturbances.rio.write_crs('EPSG:4326',inplace=True);"
   ]
  },
  {
   "cell_type": "code",
   "execution_count": 7,
   "metadata": {},
   "outputs": [
    {
     "name": "stderr",
     "output_type": "stream",
     "text": [
      "  0%|          | 0/30 [00:00<?, ?it/s]"
     ]
    },
    {
     "name": "stdout",
     "output_type": "stream",
     "text": [
      "../results/02_convert_AGB_TB/liu_biomass_xu_ma_TB.nc\n"
     ]
    },
    {
     "name": "stderr",
     "output_type": "stream",
     "text": [
      "  3%|▎         | 1/30 [00:16<07:44, 16.03s/it]"
     ]
    },
    {
     "name": "stdout",
     "output_type": "stream",
     "text": [
      "../results/02_convert_AGB_TB/liu_biomass_xu_huang_TB.nc\n"
     ]
    },
    {
     "name": "stderr",
     "output_type": "stream",
     "text": [
      "  7%|▋         | 2/30 [00:30<07:05, 15.21s/it]"
     ]
    },
    {
     "name": "stdout",
     "output_type": "stream",
     "text": [
      "../results/02_convert_AGB_TB/liu_biomass_song_ma_TB.nc\n"
     ]
    },
    {
     "name": "stderr",
     "output_type": "stream",
     "text": [
      " 10%|█         | 3/30 [00:45<06:46, 15.06s/it]"
     ]
    },
    {
     "name": "stdout",
     "output_type": "stream",
     "text": [
      "../results/02_convert_AGB_TB/liu_biomass_song_huang_TB.nc\n"
     ]
    },
    {
     "name": "stderr",
     "output_type": "stream",
     "text": [
      " 13%|█▎        | 4/30 [00:58<06:14, 14.42s/it]"
     ]
    },
    {
     "name": "stdout",
     "output_type": "stream",
     "text": [
      "../results/02_convert_AGB_TB/liu_biomass_CCI_ma_TB.nc\n"
     ]
    },
    {
     "name": "stderr",
     "output_type": "stream",
     "text": [
      " 17%|█▋        | 5/30 [01:14<06:06, 14.66s/it]"
     ]
    },
    {
     "name": "stdout",
     "output_type": "stream",
     "text": [
      "../results/02_convert_AGB_TB/liu_biomass_CCI_huang_TB.nc\n"
     ]
    },
    {
     "name": "stderr",
     "output_type": "stream",
     "text": [
      " 20%|██        | 6/30 [01:27<05:40, 14.18s/it]"
     ]
    },
    {
     "name": "stdout",
     "output_type": "stream",
     "text": [
      "../results/02_convert_AGB_TB/xu_biomass_xu_TB.nc\n"
     ]
    },
    {
     "name": "stderr",
     "output_type": "stream",
     "text": [
      " 23%|██▎       | 7/30 [02:45<13:30, 35.23s/it]"
     ]
    },
    {
     "name": "stdout",
     "output_type": "stream",
     "text": [
      "../results/02_convert_AGB_TB/xu_biomass_song_TB.nc\n"
     ]
    },
    {
     "name": "stderr",
     "output_type": "stream",
     "text": [
      " 27%|██▋       | 8/30 [04:09<18:32, 50.55s/it]"
     ]
    },
    {
     "name": "stdout",
     "output_type": "stream",
     "text": [
      "../results/02_convert_AGB_TB/xu_biomass_CCI_TB.nc\n"
     ]
    },
    {
     "name": "stderr",
     "output_type": "stream",
     "text": [
      " 30%|███       | 9/30 [05:39<22:01, 62.91s/it]"
     ]
    },
    {
     "name": "stdout",
     "output_type": "stream",
     "text": [
      "../results/02_convert_AGB_TB/chen_biomass_xu_TB.nc\n"
     ]
    },
    {
     "name": "stderr",
     "output_type": "stream",
     "text": [
      " 33%|███▎      | 10/30 [05:42<14:51, 44.58s/it]"
     ]
    },
    {
     "name": "stdout",
     "output_type": "stream",
     "text": [
      "../results/02_convert_AGB_TB/chen_biomass_song_TB.nc\n"
     ]
    },
    {
     "name": "stderr",
     "output_type": "stream",
     "text": [
      " 37%|███▋      | 11/30 [05:46<10:08, 32.00s/it]"
     ]
    },
    {
     "name": "stdout",
     "output_type": "stream",
     "text": [
      "../results/02_convert_AGB_TB/chen_biomass_CCI_TB.nc\n"
     ]
    },
    {
     "name": "stderr",
     "output_type": "stream",
     "text": [
      " 40%|████      | 12/30 [05:50<07:01, 23.40s/it]"
     ]
    },
    {
     "name": "stdout",
     "output_type": "stream",
     "text": [
      "../results/02_convert_AGB_TB/LVOD_xu_ma_TB.nc\n"
     ]
    },
    {
     "name": "stderr",
     "output_type": "stream",
     "text": [
      " 43%|████▎     | 13/30 [05:53<04:53, 17.27s/it]"
     ]
    },
    {
     "name": "stdout",
     "output_type": "stream",
     "text": [
      "../results/02_convert_AGB_TB/LVOD_xu_huang_TB.nc\n"
     ]
    },
    {
     "name": "stderr",
     "output_type": "stream",
     "text": [
      " 47%|████▋     | 14/30 [05:57<03:32, 13.30s/it]"
     ]
    },
    {
     "name": "stdout",
     "output_type": "stream",
     "text": [
      "../results/02_convert_AGB_TB/LVOD_song_ma_TB.nc\n"
     ]
    },
    {
     "name": "stderr",
     "output_type": "stream",
     "text": [
      " 50%|█████     | 15/30 [06:00<02:35, 10.39s/it]"
     ]
    },
    {
     "name": "stdout",
     "output_type": "stream",
     "text": [
      "../results/02_convert_AGB_TB/LVOD_song_huang_TB.nc\n"
     ]
    },
    {
     "name": "stderr",
     "output_type": "stream",
     "text": [
      " 53%|█████▎    | 16/30 [06:05<02:01,  8.65s/it]"
     ]
    },
    {
     "name": "stdout",
     "output_type": "stream",
     "text": [
      "../results/02_convert_AGB_TB/LVOD_CCI_ma_TB.nc\n"
     ]
    },
    {
     "name": "stderr",
     "output_type": "stream",
     "text": [
      " 57%|█████▋    | 17/30 [06:10<01:36,  7.44s/it]"
     ]
    },
    {
     "name": "stdout",
     "output_type": "stream",
     "text": [
      "../results/02_convert_AGB_TB/LVOD_CCI_huang_TB.nc\n"
     ]
    },
    {
     "name": "stderr",
     "output_type": "stream",
     "text": [
      " 60%|██████    | 18/30 [06:14<01:19,  6.60s/it]"
     ]
    },
    {
     "name": "stdout",
     "output_type": "stream",
     "text": [
      "../results/02_convert_AGB_TB/LVODmax_xu_ma_TB.nc\n"
     ]
    },
    {
     "name": "stderr",
     "output_type": "stream",
     "text": [
      " 63%|██████▎   | 19/30 [06:18<01:02,  5.69s/it]"
     ]
    },
    {
     "name": "stdout",
     "output_type": "stream",
     "text": [
      "../results/02_convert_AGB_TB/LVODmax_xu_huang_TB.nc\n"
     ]
    },
    {
     "name": "stderr",
     "output_type": "stream",
     "text": [
      " 67%|██████▋   | 20/30 [06:21<00:50,  5.04s/it]"
     ]
    },
    {
     "name": "stdout",
     "output_type": "stream",
     "text": [
      "../results/02_convert_AGB_TB/LVODmax_song_ma_TB.nc\n"
     ]
    },
    {
     "name": "stderr",
     "output_type": "stream",
     "text": [
      " 70%|███████   | 21/30 [06:25<00:41,  4.58s/it]"
     ]
    },
    {
     "name": "stdout",
     "output_type": "stream",
     "text": [
      "../results/02_convert_AGB_TB/LVODmax_song_huang_TB.nc\n"
     ]
    },
    {
     "name": "stderr",
     "output_type": "stream",
     "text": [
      " 73%|███████▎  | 22/30 [06:28<00:33,  4.21s/it]"
     ]
    },
    {
     "name": "stdout",
     "output_type": "stream",
     "text": [
      "../results/02_convert_AGB_TB/LVODmax_CCI_ma_TB.nc\n"
     ]
    },
    {
     "name": "stderr",
     "output_type": "stream",
     "text": [
      " 77%|███████▋  | 23/30 [06:32<00:27,  3.93s/it]"
     ]
    },
    {
     "name": "stdout",
     "output_type": "stream",
     "text": [
      "../results/02_convert_AGB_TB/LVODmax_CCI_huang_TB.nc\n"
     ]
    },
    {
     "name": "stderr",
     "output_type": "stream",
     "text": [
      " 80%|████████  | 24/30 [06:36<00:24,  4.12s/it]"
     ]
    },
    {
     "name": "stdout",
     "output_type": "stream",
     "text": [
      "../results/02_convert_AGB_TB/LVODmin_xu_ma_TB.nc\n"
     ]
    },
    {
     "name": "stderr",
     "output_type": "stream",
     "text": [
      " 83%|████████▎ | 25/30 [06:40<00:19,  3.90s/it]"
     ]
    },
    {
     "name": "stdout",
     "output_type": "stream",
     "text": [
      "../results/02_convert_AGB_TB/LVODmin_xu_huang_TB.nc\n"
     ]
    },
    {
     "name": "stderr",
     "output_type": "stream",
     "text": [
      " 87%|████████▋ | 26/30 [06:44<00:16,  4.04s/it]"
     ]
    },
    {
     "name": "stdout",
     "output_type": "stream",
     "text": [
      "../results/02_convert_AGB_TB/LVODmin_song_ma_TB.nc\n"
     ]
    },
    {
     "name": "stderr",
     "output_type": "stream",
     "text": [
      " 90%|█████████ | 27/30 [06:48<00:12,  4.18s/it]"
     ]
    },
    {
     "name": "stdout",
     "output_type": "stream",
     "text": [
      "../results/02_convert_AGB_TB/LVODmin_song_huang_TB.nc\n"
     ]
    },
    {
     "name": "stderr",
     "output_type": "stream",
     "text": [
      " 93%|█████████▎| 28/30 [06:53<00:08,  4.29s/it]"
     ]
    },
    {
     "name": "stdout",
     "output_type": "stream",
     "text": [
      "../results/02_convert_AGB_TB/LVODmin_CCI_ma_TB.nc\n"
     ]
    },
    {
     "name": "stderr",
     "output_type": "stream",
     "text": [
      " 97%|█████████▋| 29/30 [06:56<00:04,  4.03s/it]"
     ]
    },
    {
     "name": "stdout",
     "output_type": "stream",
     "text": [
      "../results/02_convert_AGB_TB/LVODmin_CCI_huang_TB.nc\n"
     ]
    },
    {
     "name": "stderr",
     "output_type": "stream",
     "text": [
      "100%|██████████| 30/30 [07:00<00:00, 14.01s/it]\n",
      "100%|██████████| 30/30 [07:00<00:00, 14.01s/it]\n"
     ]
    }
   ],
   "source": [
    "# find the files that need to be processed\n",
    "files =pd.Series(glob('../results/02_convert_AGB_TB/*.nc'))\n",
    "files = files[files.str.contains('xu|liu|chen|LVOD')  & ~files.str.contains('_100|_200')].values\n",
    "for file in tqdm(files):\n",
    "    # load file\n",
    "    ds =xr.open_dataarray(file,decode_times=False)\n",
    "\n",
    "    # analyze file\n",
    "    ds_100,ds_200 = analyze_dataset(ds,growth_rate_map,disturbances)\n",
    "    print(file)\n",
    "    \n",
    "    # save results\n",
    "    ds_100.to_netcdf(file[:-3] + '_100.nc')\n",
    "    ds_200.to_netcdf(file[:-3] + '_200.nc')"
   ]
  }
 ],
 "metadata": {
  "kernelspec": {
   "display_name": ".venv",
   "language": "python",
   "name": "python3"
  },
  "language_info": {
   "codemirror_mode": {
    "name": "ipython",
    "version": 3
   },
   "file_extension": ".py",
   "mimetype": "text/x-python",
   "name": "python",
   "nbconvert_exporter": "python",
   "pygments_lexer": "ipython3",
   "version": "3.11.9"
  }
 },
 "nbformat": 4,
 "nbformat_minor": 2
}
