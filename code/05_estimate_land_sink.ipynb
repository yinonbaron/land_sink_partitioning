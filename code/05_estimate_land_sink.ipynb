{
 "cells": [
  {
   "cell_type": "code",
   "execution_count": 1,
   "metadata": {},
   "outputs": [],
   "source": [
    "import pandas as pd\n",
    "import numpy as np\n",
    "import xarray as xr\n",
    "import rioxarray as rio\n",
    "from scipy.stats import mode\n",
    "from utils import *"
   ]
  },
  {
   "cell_type": "markdown",
   "metadata": {},
   "source": [
    "# Estimate the net land sink globally and regionally from observational data"
   ]
  },
  {
   "cell_type": "markdown",
   "metadata": {},
   "source": [
    "## 1. Introduction"
   ]
  },
  {
   "cell_type": "markdown",
   "metadata": {},
   "source": [
    "## 2. Load data"
   ]
  },
  {
   "cell_type": "markdown",
   "metadata": {},
   "source": [
    "### 2.1 Load data from the Global Carbon Project"
   ]
  },
  {
   "cell_type": "code",
   "execution_count": 2,
   "metadata": {},
   "outputs": [],
   "source": [
    "GCB_data = pd.read_excel('../data/carbon_cycle/GCB/Global_Carbon_Budget_2023v1.1.xlsx',sheet_name='Global Carbon Budget',skiprows=21,index_col=0)*1e15\n",
    "\n",
    "ocean_sink = pd.read_excel('../data/carbon_cycle/GCB/Global_Carbon_Budget_2023v1.1.xlsx',sheet_name='Ocean Sink',skiprows=30,index_col=0)\n",
    "\n",
    "cement = pd.read_excel('../data/carbon_cycle/GCB/Global_Carbon_Budget_2023v1.1.xlsx',sheet_name='Cement Carbonation Sink',skiprows=9,index_col=0)"
   ]
  },
  {
   "cell_type": "markdown",
   "metadata": {},
   "source": [
    "### 2.2. Inversions"
   ]
  },
  {
   "cell_type": "code",
   "execution_count": 3,
   "metadata": {},
   "outputs": [],
   "source": [
    "GCB_inversions = xr.open_dataset('../data/carbon_cycle/atmospheric_inversions/GCP2023_inversions_1x1_version1_1_20240124.nc')\n",
    "\n",
    "# set CRS and rename dimensions\n",
    "GCB_inversions.rio.write_crs(\"EPSG:4326\",inplace=True);\n",
    "GCB_inversions = GCB_inversions.rename({'longitude':'x','latitude':'y'})\n",
    "\n",
    "# get the inversion names and assign them as coordinates\n",
    "inversion_names = np.array([''.join(GCB_inversions['ensemble_member_name'].values[i]) for i in range(GCB_inversions.sizes['ensemble_member'])])\n",
    "GCB_inversions = GCB_inversions.assign_coords({'ensemble_member':inversion_names})\n",
    "\n",
    "# get the grid cell area\n",
    "cell_area = GCB_inversions['cell_area']"
   ]
  },
  {
   "cell_type": "markdown",
   "metadata": {},
   "source": [
    "### 2.3. Regions"
   ]
  },
  {
   "cell_type": "code",
   "execution_count": 4,
   "metadata": {},
   "outputs": [],
   "source": [
    "# load country data\n",
    "countries_data = gpd.read_file('../data/country_data/country_data_w_RECCAP_Pan_FAO.shp')\n",
    "countries_data['id'] = countries_data.index\n",
    "# create reccap_regions\n",
    "reccap_regions = countries_data.dissolve(by='RECCAP reg')"
   ]
  },
  {
   "cell_type": "markdown",
   "metadata": {},
   "source": [
    "## 3. Define functions for the analysis"
   ]
  },
  {
   "cell_type": "code",
   "execution_count": 5,
   "metadata": {},
   "outputs": [],
   "source": [
    "def analyze_gridded_inversions(region:gpd.GeoDataFrame,flux:xr.DataArray,cell_area:xr.DataArray,interp=False) -> pd.DataFrame:\n",
    "    '''\n",
    "    Sum land-atmosphere flux from inversion over a given set of regions.\n",
    "\n",
    "    Parameters:\n",
    "    region: gpd.GeoDataFrame\n",
    "        Regions to sum over\n",
    "    flux: xr.DataArray\n",
    "        Land-atmosphere flux from inversion\n",
    "    cell_area: xr.DataArray\n",
    "        Area of each grid cell\n",
    "    interp: bool\n",
    "        Interpolate region boundaries\n",
    "\n",
    "    Returns:\n",
    "    pd.DataFrame\n",
    "        Sum of flux over regions\n",
    "    '''\n",
    "    \n",
    "    # calculate sum of flux over each region\n",
    "    res = raster_vector_zonal_stats(region.reset_index(),flux*cell_area,'sum',interp=interp).unstack()\n",
    "\n",
    "    # set index and column names\n",
    "    # rename the indices to be the region names and the landcover types\n",
    "    res.index =pd.MultiIndex.from_product([region.index,flux['ensemble_member'].values])\n",
    "    res.columns = flux['time'].values\n",
    "    \n",
    "    return res"
   ]
  },
  {
   "cell_type": "markdown",
   "metadata": {},
   "source": [
    "## 4. Run analysis"
   ]
  },
  {
   "cell_type": "markdown",
   "metadata": {},
   "source": [
    "### 4.1. Global"
   ]
  },
  {
   "cell_type": "code",
   "execution_count": 6,
   "metadata": {},
   "outputs": [],
   "source": [
    "# define the land sink as the residual of fossil fuels, atmospheric growth, ocean sink, and cement carbonation sink\n",
    "land_sink = GCB_data.loc[1990:,['fossil emissions excluding carbonation','atmospheric growth','ocean sink','cement carbonation sink']]\n",
    "land_sink.columns = ['FF','AGR','ocean','cement']\n",
    "\n",
    "# calculate the standard deviation of the land sink\n",
    "land_sink_std = land_sink.copy()\n",
    "\n",
    "# fossil fuel emission uncertainty is 5% (1 sigma)\n",
    "land_sink_std['FF_std'] = land_sink['FF']*0.05\n",
    "\n",
    "# From Friedlingstein et al. 2023\n",
    "# We estimate the uncertainty in the decadally averaged growth rate after 1980 at 0.02 Gt C yr−1 based on the calibration and the annual growth rate uncertainty but stretched over a 10-year interval. \n",
    "land_sink_std['AGR_std'] = 0.02e15\n",
    "\n",
    "# take the uncertainty in the ocean sink from the GCB\n",
    "land_sink_std['ocean_std'] = ocean_sink.loc[1990:,'1 sigma uncertainty']*1e15\n",
    "\n",
    "# for cement, take the average CV between the two data sources in GBC from 1990\n",
    "cement_CV = cement[['Cao','Huang']].std(axis=1).loc[1990:].mean()/cement[['Cao','Huang']].loc[1990:].mean().mean()\n",
    "land_sink_std['cement_std'] = land_sink['cement'] * cement_CV\n",
    "\n",
    "land_sink_std = land_sink_std[['FF_std','AGR_std','ocean_std','cement_std']]\n",
    "\n",
    "# concatenate the land sink and its standard deviation\n",
    "final_land_sink_estimate = pd.concat([land_sink,land_sink_std],axis=1,)\n",
    "\n",
    "# save the results\n",
    "final_land_sink_estimate.to_csv('../results/05_estimate_land_sink/global.csv')"
   ]
  },
  {
   "cell_type": "markdown",
   "metadata": {},
   "source": [
    "### 4.2. Regional\n"
   ]
  },
  {
   "cell_type": "code",
   "execution_count": 7,
   "metadata": {},
   "outputs": [],
   "source": [
    "# get the NEE\n",
    "GCB_NEE = GCB_inversions['land_flux_only_fossil_cement_adjusted']\n",
    "\n",
    "# get the fossil fuel emissions field\n",
    "FF_inversions = GCB_inversions['fossil_fuel_emissions']\n",
    "\n",
    "def analyze_dataset(ds):\n",
    "    \n",
    "    # calculate annual mean of the dataset\n",
    "    ds = ds.resample(time='YE').mean()\n",
    "    ds['time'] = ds['time'].dt.year\n",
    "\n",
    "    # calculate regional sums and convert GtC to gC\n",
    "    ds_regional = analyze_gridded_inversions(reccap_regions,ds,cell_area,interp=True)*1e15\n",
    "\n",
    "    # replace zeros with nans\n",
    "    ds_regional[ds_regional==0] = np.nan\n",
    "\n",
    "    # set indices names\n",
    "    ds_regional.index.names = ['region','inversion']\n",
    "\n",
    "    return ds_regional\n",
    "\n",
    "# analyze dataset\n",
    "NEE_regional = analyze_dataset(GCB_NEE)\n",
    "FF_regional = analyze_dataset(FF_inversions)\n",
    "\n",
    "# save the results\n",
    "NEE_regional.to_csv('../results/05_estimate_land_sink/NEE_regional.csv')\n",
    "FF_regional.to_csv('../results/05_estimate_land_sink/FF_regional.csv')"
   ]
  },
  {
   "cell_type": "markdown",
   "metadata": {},
   "source": [
    "### 4.3. Lateral fluxes\n",
    "\n",
    "We rely on the corrected land to ocean flux map that is accompanying the inversion models."
   ]
  },
  {
   "cell_type": "code",
   "execution_count": 8,
   "metadata": {},
   "outputs": [],
   "source": [
    "# set the lateral river fluxes to the variable in the GCB inversion data\n",
    "lateral_fluxes = GCB_inversions['river_adjustment_land_scaled']\n",
    "\n",
    "# calculate the river fluxes over each region\n",
    "region_river_fluxes = raster_vector_zonal_stats(reccap_regions.reset_index(),lateral_fluxes*cell_area,'sum',interp=True)\n",
    "\n",
    "# set the index to be the region names\n",
    "region_river_fluxes.index = reccap_regions.index\n",
    "\n",
    "# convert from GtC to gC\n",
    "region_river_fluxes = region_river_fluxes*1e15\n",
    "\n",
    "# set series name\n",
    "region_river_fluxes.name = 'river_flux'\n",
    "\n",
    "# save the results\n",
    "region_river_fluxes.to_csv('../results/05_estimate_land_sink/river_fluxes.csv')"
   ]
  }
 ],
 "metadata": {
  "kernelspec": {
   "display_name": ".venv",
   "language": "python",
   "name": "python3"
  },
  "language_info": {
   "codemirror_mode": {
    "name": "ipython",
    "version": 3
   },
   "file_extension": ".py",
   "mimetype": "text/x-python",
   "name": "python",
   "nbconvert_exporter": "python",
   "pygments_lexer": "ipython3",
   "version": "3.11.9"
  }
 },
 "nbformat": 4,
 "nbformat_minor": 2
}
