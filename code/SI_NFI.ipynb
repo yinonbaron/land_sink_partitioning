{
 "cells": [
  {
   "cell_type": "code",
   "execution_count": 1,
   "metadata": {},
   "outputs": [],
   "source": [
    "import pandas as pd"
   ]
  },
  {
   "cell_type": "markdown",
   "metadata": {},
   "source": [
    "# Estimating living biomass stock changes from National Forest Inventory data"
   ]
  },
  {
   "cell_type": "markdown",
   "metadata": {},
   "source": [
    "## 1. Introduction\n",
    "\n",
    "This analysis is related to supplementary text 5 which compares our analysis to the results from national forest inventory data from [Grassi et al. (2023)](https://essd.copernicus.org/articles/15/1093/2023/). The analysis contains 3 steps:\n",
    "\n",
    "1. Estimate the change in carbon stocks in forests in carbon units from the data in Grassi et al. (2023)\n",
    "\n",
    "2. Correct for the fraction of the estimate that is in living biomass from the data in [Grassi et al. (2022)](https://essd.copernicus.org/articles/14/4643/2022/).\n",
    "\n",
    "3. Incorporate estimates of missing sink in unmanaged forests from Grassi et al. (2023)."
   ]
  },
  {
   "cell_type": "markdown",
   "metadata": {},
   "source": [
    "## 2. Load data"
   ]
  },
  {
   "cell_type": "code",
   "execution_count": 2,
   "metadata": {},
   "outputs": [],
   "source": [
    "# load Table 5 from Grassi et al. 2022\n",
    "grassi_2022 = pd.read_excel('../data/supplementary_analysis/NFI_data/essd-14-4643-2022-t05.xlsx',skiprows=2)\n",
    "\n",
    "# load data from Grassi et al. 2023\n",
    "\n",
    "grassi_2023 = pd.read_excel('../data/supplementary_analysis/NFI_data/National_inventories_LULUCF_data_2000-2020.xlsx',sheet_name='Table 5',skiprows=3)"
   ]
  },
  {
   "cell_type": "markdown",
   "metadata": {},
   "source": [
    "## 3. Run analysis"
   ]
  },
  {
   "cell_type": "markdown",
   "metadata": {},
   "source": [
    "### 3.1. Step 1 - get estimate from Grassi et al. 2023"
   ]
  },
  {
   "cell_type": "code",
   "execution_count": 3,
   "metadata": {},
   "outputs": [
    {
     "name": "stdout",
     "output_type": "stream",
     "text": [
      "403   -6659.157064\n",
      "610    4353.875362\n",
      "Name: Av.. 2000-2020, dtype: object\n"
     ]
    }
   ],
   "source": [
    "\n",
    "\n",
    "grassi_rate = grassi_2023[(grassi_2023['LAND CATEGORY'].isin(['FOREST LAND','DEFORESTATION'])) & (grassi_2023['UNFCCC country']=='World')]['Av.. 2000-2020']\n",
    "\n",
    "print(grassi_rate)\n",
    "# CO2 to C\n",
    "co2_c = (12/(12+16*2))\n",
    "# convert to carbon \n",
    "grassi_rate_C = grassi_rate.sum() * co2_c"
   ]
  },
  {
   "cell_type": "markdown",
   "metadata": {},
   "source": [
    "### 3.2. Step 2 - extact data only for living biomass\n",
    "\n",
    "Grassi et al. (2022) estimates that ≈300 MtCO<sub>2</sub> yr<sup>-1</sup> is sequestered in harvested wood products. In addition, We remove from the estimate the contribution of dead organic matter and mineral soils from Table 5 in Grassi et al. 2022."
   ]
  },
  {
   "cell_type": "code",
   "execution_count": 4,
   "metadata": {},
   "outputs": [],
   "source": [
    "HWP = 300 # 300 MtCO2 yr-1\n",
    "\n",
    "non_biomass = grassi_2022.iloc[[2,4]][['Dead.1','Soil.2']].map(lambda x: x.strip('−')).astype(float).sum().sum()\n",
    "\n",
    "non_biomass_tot = (non_biomass + HWP) * co2_c"
   ]
  },
  {
   "cell_type": "code",
   "execution_count": 5,
   "metadata": {},
   "outputs": [
    {
     "name": "stdout",
     "output_type": "stream",
     "text": [
      "Our estimate for NFI based forest living biomass sink is: 0.4 GtC yr-1\n"
     ]
    }
   ],
   "source": [
    "# remove from the accumulation in Grassi the non-biomass part and convert to GtC yr-1\n",
    "NFI_estimate = -(grassi_rate_C + non_biomass_tot)/1e3\n",
    "\n",
    "print(f'Our estimate for NFI based forest living biomass sink is: {NFI_estimate:.1f} GtC yr-1')"
   ]
  }
 ],
 "metadata": {
  "kernelspec": {
   "display_name": ".venv",
   "language": "python",
   "name": "python3"
  },
  "language_info": {
   "codemirror_mode": {
    "name": "ipython",
    "version": 3
   },
   "file_extension": ".py",
   "mimetype": "text/x-python",
   "name": "python",
   "nbconvert_exporter": "python",
   "pygments_lexer": "ipython3",
   "version": "3.11.9"
  }
 },
 "nbformat": 4,
 "nbformat_minor": 2
}
