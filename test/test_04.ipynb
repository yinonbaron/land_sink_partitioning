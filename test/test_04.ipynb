{
 "cells": [
  {
   "cell_type": "code",
   "execution_count": 1,
   "metadata": {},
   "outputs": [],
   "source": [
    "import pandas as pd\n",
    "from glob import glob\n",
    "import numpy as np"
   ]
  },
  {
   "cell_type": "code",
   "execution_count": 2,
   "metadata": {},
   "outputs": [],
   "source": [
    "# load data\n",
    "files = glob('../results/03_aggregate_regions/*regions.csv')\n",
    "\n",
    "# extract file names\n",
    "file_names = np.array([x.split('/')[-1].split('.')[0] for x in files])\n",
    "\n",
    "# extract the data source from the file name\n",
    "sources = [x.split('_')[0] for x in file_names]\n",
    "\n",
    "# change LVODmin and LVODmax to LVOD\n",
    "sources = ['LVOD' if x in ['LVODmin','LVODmax'] else x for x in sources]\n",
    "\n",
    "# extract the method from the file name\n",
    "method = ['_'.join(x.split('_')[:-1]) for x in file_names]\n",
    "\n",
    "# create a file metadata dataframe\n",
    "file_metadata = pd.DataFrame(np.array([files, sources,file_names]).T,columns=['file','source','method'])"
   ]
  },
  {
   "cell_type": "code",
   "execution_count": 25,
   "metadata": {},
   "outputs": [
    {
     "data": {
      "text/plain": [
       "landcover\n",
       "forest    1.738889e+15\n",
       "dtype: float64"
      ]
     },
     "execution_count": 25,
     "metadata": {},
     "output_type": "execute_result"
    }
   ],
   "source": [
    "pd.read_csv(file_metadata.loc[file_metadata['source']=='pan','file'].values[0],index_col=[0,1]).loc['Other'].mean(axis=1)#.diff(axis=1)"
   ]
  },
  {
   "cell_type": "code",
   "execution_count": 29,
   "metadata": {},
   "outputs": [],
   "source": [
    "def process_file(fn):\n",
    "    # define a function to process files\n",
    "\n",
    "    # load file and set two first columns as indices\n",
    "    df  = pd.read_csv(fn,index_col=[0,1])\n",
    "\n",
    "    # set the columns as integers\n",
    "    df.columns = df.columns.astype(float).astype(int) \n",
    "\n",
    "    # set the names of the indices\n",
    "    df.index.names = ['RECCAP reg','landcover']\n",
    "\n",
    "    # add the file name to the indices\n",
    "    ind = df.reset_index()[['RECCAP reg','landcover']]\n",
    "    ind['file'] = fn\n",
    "    df.index = pd.MultiIndex.from_frame(ind[['file','RECCAP reg','landcover']])\n",
    "    df.index.names = ['file','region','landcover']\n",
    "    delta = (df.iloc[:,-1] - df.iloc[:,0])/(df.columns[-1]-df.columns[0])\n",
    "    return delta\n",
    "\n",
    "merged_data = pd.concat([process_file(row['file']) for i,row in file_metadata.iterrows()])\n",
    "\n",
    "# merge the data with the metadata to add source to each row\n",
    "merged_data = merged_data.reset_index().merge(file_metadata, on='file').set_index(['source','method','region','landcover']).drop(columns='file')    \n",
    "\n",
    "stage_4 = pd.read_csv('../results/04_temporal_harmonization/harmonized_biomass_data.csv',index_col=[0,1,2,3])\n",
    "mean_stage_4 = stage_4.mean(axis=1)\n",
    "mean_stage_4.name = 'mean_stage_4'\n",
    "merged_data = merged_data.merge(mean_stage_4,left_index=True,right_index=True,how='left')\n",
    "\n",
    "# only besnard should be here\n",
    "assert merged_data[np.abs(merged_data['mean_stage_4'] - merged_data[0])>1].drop(index='besnard').shape[0] == 0, \"FAIL\""
   ]
  }
 ],
 "metadata": {
  "kernelspec": {
   "display_name": ".venv",
   "language": "python",
   "name": "python3"
  },
  "language_info": {
   "codemirror_mode": {
    "name": "ipython",
    "version": 3
   },
   "file_extension": ".py",
   "mimetype": "text/x-python",
   "name": "python",
   "nbconvert_exporter": "python",
   "pygments_lexer": "ipython3",
   "version": "3.11.9"
  }
 },
 "nbformat": 4,
 "nbformat_minor": 2
}
