{
 "cells": [
  {
   "cell_type": "code",
   "execution_count": 2,
   "metadata": {},
   "outputs": [],
   "source": [
    "import xarray as xr\n",
    "import rioxarray as rio\n",
    "from glob import glob\n",
    "\n",
    "import os\n",
    "import sys\n",
    "from pathlib import Path\n",
    "sys.path.append(str(Path(os.getcwd()).parent) + \"/code/\")\n",
    "from utils import *"
   ]
  },
  {
   "cell_type": "markdown",
   "metadata": {},
   "source": [
    "# Testing noteboook `02_convert_AGB_TB`"
   ]
  },
  {
   "cell_type": "markdown",
   "metadata": {},
   "source": [
    "## Load data"
   ]
  },
  {
   "cell_type": "markdown",
   "metadata": {},
   "source": [
    "#### [Ma et al. (2021)](https://www.nature.com/articles/s41559-021-01485-1)"
   ]
  },
  {
   "cell_type": "code",
   "execution_count": 3,
   "metadata": {},
   "outputs": [],
   "source": [
    "# load data\n",
    "ma_data = rio.open_rasterio('../results/00_preprocessing/ma_et_al_processed.nc',masked=True)\n",
    "\n",
    "# convert from percent to fraction\n",
    "ma_data.data = ma_data.data/100\n",
    "\n",
    "# replace the shrub landcover with the max of the shrub and grass data \n",
    "ma_data.sel(landcover='shrub').data = ma_data.sel(landcover=['shrub','grass']).max(dim='landcover').data\n",
    "\n",
    "# rename the shrub landcover to nonforest to and take the forest and nonforest landcovers\n",
    "ma_data['landcover'] = ['nonforest','forest','grass']\n",
    "ma_data = ma_data.sel(landcover=['forest','nonforest'])"
   ]
  },
  {
   "cell_type": "markdown",
   "metadata": {},
   "source": [
    "#### [Huang et al. (2021)](https://essd.copernicus.org/articles/13/4263/2021/)"
   ]
  },
  {
   "cell_type": "code",
   "execution_count": 4,
   "metadata": {},
   "outputs": [],
   "source": [
    "# load data\n",
    "huang_data = rio.open_rasterio('../results/00_preprocessing/huang_et_al_processed.nc',masked=True)\n",
    "\n",
    "# calculate RMF\n",
    "huang_data = huang_data.sel(veg_part='root')/huang_data.sum(dim='veg_part')\n",
    "\n",
    "# duplicate the data to be both for forest and nonforest\n",
    "huang_data = xr.concat([huang_data,huang_data],dim='landcover')\n",
    "huang_data['landcover'] = ['forest','nonforest']"
   ]
  },
  {
   "cell_type": "markdown",
   "metadata": {},
   "source": [
    "## Run analysis"
   ]
  },
  {
   "cell_type": "code",
   "execution_count": 5,
   "metadata": {},
   "outputs": [],
   "source": [
    "\n",
    "files_after = glob('../results/02_convert_AGB_TB/*.nc')\n",
    "files_after = [f for f in files_after if ('100' not in f) & ('200' not in f) & ('xu_biomass' not in f) & ('chen_biomass' not in f)]"
   ]
  },
  {
   "cell_type": "code",
   "execution_count": 6,
   "metadata": {},
   "outputs": [
    {
     "name": "stdout",
     "output_type": "stream",
     "text": [
      "../results/02_convert_AGB_TB/liu_biomass_xu_huang_TB.nc: 2.85e-05\n",
      "../results/02_convert_AGB_TB/liu_biomass_song_ma_TB.nc: -1.11e-05\n",
      "../results/02_convert_AGB_TB/liu_biomass_song_huang_TB.nc: 1.48e-05\n",
      "../results/02_convert_AGB_TB/liu_biomass_CCI_ma_TB.nc: -2.40e-05\n",
      "../results/02_convert_AGB_TB/liu_biomass_CCI_huang_TB.nc: 2.35e-05\n",
      "../results/02_convert_AGB_TB/LVOD_xu_ma_TB.nc: 1.31e-05\n",
      "../results/02_convert_AGB_TB/LVOD_xu_huang_TB.nc: 1.15e-05\n",
      "../results/02_convert_AGB_TB/LVOD_song_ma_TB.nc: 8.44e-06\n",
      "../results/02_convert_AGB_TB/LVOD_song_huang_TB.nc: 9.96e-06\n",
      "../results/02_convert_AGB_TB/LVOD_CCI_ma_TB.nc: 1.13e-05\n",
      "../results/02_convert_AGB_TB/LVOD_CCI_huang_TB.nc: 1.19e-05\n",
      "../results/02_convert_AGB_TB/LVODmin_song_huang_TB.nc: 1.14e-05\n",
      "../results/02_convert_AGB_TB/liu_biomass_xu_ma_TB.nc: -2.47e-05\n",
      "../results/02_convert_AGB_TB/LVODmax_xu_ma_TB.nc: 1.29e-05\n",
      "../results/02_convert_AGB_TB/LVODmax_xu_huang_TB.nc: 1.19e-05\n",
      "../results/02_convert_AGB_TB/LVODmax_song_ma_TB.nc: 9.81e-06\n",
      "../results/02_convert_AGB_TB/LVODmax_song_huang_TB.nc: 1.14e-05\n",
      "../results/02_convert_AGB_TB/LVODmax_CCI_ma_TB.nc: 1.11e-05\n",
      "../results/02_convert_AGB_TB/LVODmax_CCI_huang_TB.nc: 1.14e-05\n",
      "../results/02_convert_AGB_TB/LVODmin_xu_ma_TB.nc: 1.14e-05\n",
      "../results/02_convert_AGB_TB/LVODmin_xu_huang_TB.nc: 1.19e-05\n",
      "../results/02_convert_AGB_TB/LVODmin_song_ma_TB.nc: 6.69e-06\n",
      "../results/02_convert_AGB_TB/LVODmin_CCI_ma_TB.nc: 1.10e-05\n",
      "../results/02_convert_AGB_TB/LVODmin_CCI_huang_TB.nc: 1.19e-05\n"
     ]
    }
   ],
   "source": [
    "for file in files_after:\n",
    "    matching_file = '../results/01_split_forest_nonforest/' + '_'.join(file.split('/')[-1].split('_TB')[0].split('_')[:-1]) + '.nc'\n",
    "    RMF_method =  file.split('/')[-1].split('_TB')[0].split('_')[-1]\n",
    "\n",
    "    ds = xr.open_dataarray(file)\n",
    "    ref = xr.open_dataarray(matching_file)\n",
    "    matching_file\n",
    "    RMF = ma_data if RMF_method == 'ma' else huang_data\n",
    "\n",
    "    RMF = RMF.rio.reproject_match(ref)\n",
    "    RMF = RMF.fillna(0).where(ref[:,0,:,:].notnull())\n",
    "    RMF_calc = (1-1/(ds/ref))[:,0,:,:]\n",
    "\n",
    "    print(f'{file}: {(RMF-RMF_calc).sum().values:.2e}')\n",
    "\n",
    "    assert (RMF-RMF_calc).sum().values < 1e-4, \"FAIL\""
   ]
  }
 ],
 "metadata": {
  "kernelspec": {
   "display_name": ".venv",
   "language": "python",
   "name": "python3"
  },
  "language_info": {
   "codemirror_mode": {
    "name": "ipython",
    "version": 3
   },
   "file_extension": ".py",
   "mimetype": "text/x-python",
   "name": "python",
   "nbconvert_exporter": "python",
   "pygments_lexer": "ipython3",
   "version": "3.11.9"
  }
 },
 "nbformat": 4,
 "nbformat_minor": 2
}
