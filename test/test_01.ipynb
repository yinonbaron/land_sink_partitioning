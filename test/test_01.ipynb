{
 "cells": [
  {
   "cell_type": "code",
   "execution_count": 1,
   "metadata": {},
   "outputs": [],
   "source": [
    "import numpy as np\n",
    "import xarray as xr\n",
    "import rioxarray as rio\n",
    "import geopandas as gpd\n",
    "import pandas as pd\n",
    "from geocube.api.core import make_geocube\n",
    "from typing import Union\n",
    "from types import NoneType\n",
    "from sklearn.linear_model import LinearRegression\n",
    "from rasterio.enums import Resampling\n",
    "from glob import glob\n",
    "\n",
    "import os\n",
    "import sys\n",
    "from pathlib import Path\n",
    "sys.path.append(str(Path(os.getcwd()).parent) + \"/code/\")\n",
    "from utils import *"
   ]
  },
  {
   "cell_type": "markdown",
   "metadata": {},
   "source": [
    "# Testing notebook `01_split_forest_nonforest`\n",
    "\n",
    "We perform two tests for the analysis:\n",
    "\n",
    "1. We test the performance against synthetic data\n",
    "\n",
    "2. We make sure that the sum of the landcover types is close to the original sum of the data"
   ]
  },
  {
   "cell_type": "markdown",
   "metadata": {},
   "source": [
    "## 1. Testing against synthetic data\n",
    "\n",
    "We have three steps for creating the sytnthetic data:\n",
    "1. Create a map of land cover for each region using a random sample of coverage - we use a dirichlet distribution to ensure that the sum of the land cover types is 1\n",
    "\n",
    "2. Create a map of biomass densities that are a linear function of forest and nonforest for each pixel using random parameters for each region\n",
    "\n",
    "3. Create a map of biomass for each pixel using the land cover map and the biomass densities map\n",
    "\n",
    "After creating the biomass map for each landcover type, we run the analysis on the sum of both landcover types, and see if we can recover the parameters and the split between forest and nonforest\n"
   ]
  },
  {
   "cell_type": "markdown",
   "metadata": {},
   "source": [
    "## 1.1. Load data"
   ]
  },
  {
   "cell_type": "code",
   "execution_count": 2,
   "metadata": {},
   "outputs": [],
   "source": [
    "# load the Liu et al. data\n",
    "liu_data = rio.open_rasterio('../data/biomass/liu_et_al_2015/Global_annual_mean_ABC_lc2001_1993_2012_20150331.nc',masked=True)['Aboveground Biomass Carbon']\n",
    "\n",
    "# set the coordinates to the same as the other datasets\n",
    "liu_data = xr.DataArray(data=liu_data.values.swapaxes(2,1)[:,:,::-1],\n",
    "                    coords=[liu_data['time'].values,np.linspace(89.875,-89.875,720),np.linspace(-179.875,179.875,1440)],\n",
    "                    dims=['time','y','x'])\n",
    "liu_data = liu_data.rio.write_crs(4326)\n",
    "liu_data['time'] = liu_data['time'].astype(int)\n",
    "\n",
    "# load wwf ecoregions\n",
    "wwf_ecoregions = gpd.read_file('../results/00_preprocessing/agg_wwf_ecoregions.shp')"
   ]
  },
  {
   "cell_type": "markdown",
   "metadata": {},
   "source": [
    "## 1.2. Use the functions that are defined in the notebook\n",
    "\n",
    "Note that we changed the threshold for the linear regression to 1 because here there is no issue of noise"
   ]
  },
  {
   "cell_type": "code",
   "execution_count": 163,
   "metadata": {},
   "outputs": [],
   "source": [
    "def regress_density_region(ds:xr.DataArray) -> xr.DataArray:\n",
    "    '''\n",
    "    This function calculates the coefficients of Linear Regression for Land Cover Biomass against Land Cover categories.\n",
    "\n",
    "    Parameters:\n",
    "    ds: xarray.DataArray\n",
    "        The DataArray containing the landcover and biomass data.\n",
    "\n",
    "    Returns:\n",
    "    xarray.DataArray\n",
    "        The coefficients of Linear Regression for Land Cover Biomass against Land Cover categories.\n",
    "    '''\n",
    "\n",
    "    # reshape the input data into a 2D array where rows represent each sample and columns represent individual features.\n",
    "    X = ds.values.reshape((ds.shape[0],-1))\n",
    "\n",
    "    # extract and flatten the 'biomass' column from the input data, and remove NaN values.\n",
    "    y = ds['biomass'].values.flatten()\n",
    "    mask = (~np.isnan(X.sum(axis=0))) & ~np.isnan(y).squeeze() # Squeeze the boolean value into a scalar.\n",
    "    \n",
    "    # mask out columns from X that have one or more NaN values, update output variables.\n",
    "    X = X[:,mask]\n",
    "    y = y[mask]\n",
    "\n",
    "    # if the filtered inputs have an N of more than 500 valid features, run Linear Regression to estimate coefficients, else return an empty data array.\n",
    "    if X.shape[1]>=1:\n",
    "        # implement Linear Regression with positive constraint on regression weights using the filtered inputs.\n",
    "        reg = LinearRegression(positive=True,fit_intercept=False).fit(X.T, y)\n",
    "    \n",
    "        # return a DataArray containing the learned coefficients with dimensions 'landcover'.\n",
    "        return xr.DataArray(reg.coef_,dims=['landcover'])\n",
    "    else:\n",
    "        # create and return a DataArray with shape 'ds.shape[0]' and all elements initialized with NaN values.\n",
    "        return xr.DataArray(np.full(ds.shape[0],np.nan),dims=['landcover'])\n",
    "\n",
    "\n",
    "def regress_density(biomass:xr.DataArray, area_map:xr.DataArray,regions:xr.DataArray) -> np.ndarray:\n",
    "    '''\n",
    "    This function calculates the biomass densities for each region based on the regression method.\n",
    "\n",
    "    Parameters:\n",
    "    biomass: xarray.DataArray\n",
    "        The biomass data to be split.\n",
    "    area_map: xarray.DataArray\n",
    "        The area map used to define the landcover types.\n",
    "    regions: xarray.DataArray\n",
    "        The regions used to define different biomass densities for each landcover.\n",
    "    \n",
    "    Returns:\n",
    "    numpy.ndarray\n",
    "        The biomass densities for each region for the different landcovers.\n",
    "    '''\n",
    "\n",
    "    # create a merged DataArray with the landcover map, the biomass map and the region map\n",
    "    merged_ds = area_map\n",
    "    merged_ds['biomass'] = biomass\n",
    "    merged_ds['area_id'] = regions\n",
    "\n",
    "    # group the DataArray by region and apply the regression function\n",
    "    density = merged_ds.groupby('area_id').apply(regress_density_region)\n",
    "\n",
    "    # convert the result into an ndarray\n",
    "    density = density.to_dataframe(name='').unstack().T.droplevel(0).reindex(list(range(0,int(merged_ds['area_id'].max().values)+1)),fill_value=np.nan)\n",
    "    \n",
    "    return density.values\n",
    "\n",
    "def get_biomass_density(biomass:Union[xr.DataArray,NoneType],density_args:Union[xr.DataArray,NoneType],regions:xr.DataArray,method:str) -> np.ndarray:\n",
    "    '''\n",
    "    This function calculates the biomass densities for each region based on the method used.\n",
    "\n",
    "    Parameters:\n",
    "    biomass: Union[xr.DataArray,NoneType]\n",
    "        The biomass data to be split. If using Xu method, this parameter is not used.\n",
    "    density_args: Union[xarray.DataArray,NoneType]\n",
    "        Arguments for calculating the density (area_map for the regression method).\n",
    "    regions: xarray.DataArray\n",
    "        The regions used to define different forest/nonforest biomass densities.\n",
    "    method: str\n",
    "        The method to use for biomass density calculation. Options are 'xu' and 'song' or 'CCI'.\n",
    "\n",
    "    Returns:\n",
    "    numpy.ndarray\n",
    "        The biomass densities for each region.\n",
    "\n",
    "    '''\n",
    "    \n",
    "    assert method in ['xu','song','CCI'], 'Invalid method. Options are \"xu\", \"song\" or \"CCI\".'\n",
    "    \n",
    "    if method == 'xu':\n",
    "        # load Table 1 from Xu et al.\n",
    "        xu_biomass_density_df = pd.read_excel('../data/regions_data/xu_et_al_2021/biomass_densities_table1.xlsx')\n",
    "\n",
    "        # take the columns that report biomass densities\n",
    "        densities = xu_biomass_density_df.filter(regex='Mg/ha')\n",
    "\n",
    "        # calculate the average biomass density for 2000 and 2019\n",
    "        densities = (densities.filter(regex='2000').values + densities.filter(regex='2019').values) / 2\n",
    "        \n",
    "        # change the column names to forest and shrub\n",
    "        xu_biomass_density_df[['forest','shrubland']] = densities\n",
    "\n",
    "        # set the biomass density to 0 for cropland\n",
    "        xu_biomass_density_df['cropland'] = 0\n",
    "\n",
    "        # get the biomass densities and the code for the regions\n",
    "        densities_per_area = xu_biomass_density_df[['code','forest','shrubland','cropland']].set_index('code').sort_index().values\n",
    "\n",
    "    if method == 'song':\n",
    "        # for song et al., calculate density based on average biomass density and average landcover for \n",
    "        # the entire period due to non-smooth behavior of the landcover map in time\n",
    "        densities_per_area = regress_density(biomass.mean(dim='time'),density_args.mean(dim='time'),regions)\n",
    "    \n",
    "    if method == 'CCI':\n",
    "        # regress the biomass densities for each region for each year in biomass\n",
    "        densities_per_area = np.stack([regress_density(biomass.sel(time=year),density_args.sel(time=year),regions) for year in biomass['time']])\n",
    "\n",
    "    return densities_per_area\n",
    "    \n",
    "\n",
    "def split_biomass(biomass:xr.DataArray,area_frac:xr.DataArray,density_args:Union[xr.DataArray,NoneType], regions:Union[gpd.GeoDataFrame,xr.DataArray], method:str) -> xr.DataArray:\n",
    "    '''\n",
    "    This function splits the biomass data into forest and non-forest biomass based on the landcover map and the area fraction of each landcover type.\n",
    "\n",
    "    The stages of the analysis are:\n",
    "    - Resample the area fraction data to match the biomass data resolution.\n",
    "    - Calculate the biomass densities based on the method used.\n",
    "    - Split the biomass data into forest and non-forest biomass based on the landcover map and the area fraction of each landcover type.\n",
    "\n",
    "    Parameters:\n",
    "    biomass: xarray.DataArray\n",
    "        The biomass data to be split.\n",
    "    area_frac: xarray.DataArray\n",
    "        The area fraction of each landcover type.\n",
    "    density_args: Union[xarray.DataArray,NoneType]\n",
    "        Arguments for calculating the density (area_map for the regression method).\n",
    "    regions: xarray.DataArray or geopandas.GeoDataFrame\n",
    "        The regions used to define different forest/nonforest biomass densities.\n",
    "    method: str\n",
    "        The method to use for biomass density calculation. Options are 'xu' and 'song' or 'CCI'.\n",
    "    \n",
    "    Returns:\n",
    "    xarray.DataArray\n",
    "        The split biomass data.\n",
    "    '''\n",
    "    \n",
    "    assert method in ['xu','song','CCI'], 'Invalid method. Options are \"xu\", \"song\" or \"CCI\".'\n",
    "\n",
    "    ## 1. Resampling of input data ##\n",
    "\n",
    "    \n",
    "    # select the time period of the area fraction data that matches the biomass data\n",
    "    area_frac = area_frac.sel(time = biomass.time)\n",
    "    \n",
    "    # resample the area fraction data to match the biomass data resolution\n",
    "    area_frac = xr.concat([resample_match(area_frac.sel(landcover=i),biomass) for i in area_frac['landcover']],dim='landcover')\n",
    "\n",
    "    # remove artifacts from the resampling\n",
    "    area_frac = area_frac.where(area_frac<1e30)\n",
    "\n",
    "    if method != 'xu':\n",
    "        # for both regression based approaches ('song' or 'CCI'), the regions are the wwf ecoregions. We convert the GeoDataFrame to a xr.DataArray\n",
    "        regions = make_geocube(vector_data=regions,measurements=['id'],like= biomass)['id']\n",
    "\n",
    "        # for the regression based approaches, we need a forest area map ('song' or 'CCI'), so we need to resample the area map to match the biomass data resolution\n",
    "        if method == 'CCI':\n",
    "            # avoid resampling twice if CCI is used both for the area and also for the regression\n",
    "            density_args = area_frac\n",
    "        else:\n",
    "            density_args = xr.concat([resample_match(density_args.sel(landcover=i),biomass) for i in density_args['landcover']],dim='landcover')\n",
    "    \n",
    "    # resample regions to match the biomass data resolution\n",
    "    regions = regions.rio.reproject_match(biomass[0,:,:],nodata=np.nan, resampling=Resampling.nearest)\n",
    "\n",
    "    ## 2. Calculate biomass densities ##\n",
    "    # calculate the biomass densities per region\n",
    "    densities_per_area = get_biomass_density(biomass,density_args,regions,method=method)\n",
    "    \n",
    "    # create a mask for NaN values for the regions\n",
    "    nan_mask = np.isnan(regions.values)\n",
    "\n",
    "    if len(densities_per_area.shape) == 2:\n",
    "        # if densities do not have a time dimension (xu or song method) add the time dimension\n",
    "        densities_per_area = densities_per_area[np.newaxis,:,:]\n",
    "\n",
    "    # fill in NaN values in the biomass density by using the weighted mean of regions with valid values based on their dominance terms of area\n",
    "    # count the occurance of each region in the biomass data\n",
    "    region_counts = regions.where(biomass.mean(dim='time')>0).to_dataframe('id')['id'].value_counts()\n",
    "\n",
    "    # calculate the weighted average biomass density based on the occurances of each region and their biomass densities\n",
    "    average_densities = np.nansum(densities_per_area[:,region_counts.index.astype(int),:].transpose(0,2,1) * (region_counts/region_counts.sum()).values,axis=2)\n",
    "\n",
    "    # fill in NaN values in the biomass density using the time average on the average_densities\n",
    "    densities_per_area[np.isnan(densities_per_area.sum(axis=2))] = average_densities.mean(axis=0)\n",
    "\n",
    "    #convert the biomass densities per area into maps of biomass density using the region map\n",
    "    density = densities_per_area[:,regions.fillna(0).values.astype(int)]\n",
    "    \n",
    "    # reapply the NaN mask\n",
    "    density[:,nan_mask,:] = np.nan    \n",
    "\n",
    "    # transpose the density data to match the dimensions of the biomass data\n",
    "    density = density.transpose(3,1,2,0)\n",
    "\n",
    "    ## 3. Split biomass data ##\n",
    "\n",
    "    # calculate the fraction of biomass for each landcover type\n",
    "    fraction = density*area_frac.transpose('landcover','y','x','time')\n",
    "    fraction = (fraction/fraction.sum(dim='landcover')).transpose('landcover','time','y','x')\n",
    "\n",
    "    # multiply by the total biomass to get the final answer \n",
    "    result = fraction * biomass\n",
    "\n",
    "    # if landcover has three values, we need to sum cropland and shrubland into nonforest\n",
    "    if 'cropland' in result['landcover']:\n",
    "        nonforest = result.sel(landcover=['cropland','shrubland']).sum(dim='landcover').expand_dims('landcover')\n",
    "        nonforest['landcover'] = ['nonforest']\n",
    "        result = xr.concat([result.sel(landcover=['forest']),nonforest],dim='landcover')\n",
    "\n",
    "    return result"
   ]
  },
  {
   "cell_type": "markdown",
   "metadata": {},
   "source": [
    "## 1.3. Run the analysis"
   ]
  },
  {
   "cell_type": "markdown",
   "metadata": {},
   "source": [
    "### 1.3.1 Create synthetic data"
   ]
  },
  {
   "cell_type": "code",
   "execution_count": 132,
   "metadata": {},
   "outputs": [],
   "source": [
    "np.random.seed(0)\n",
    "# initialize variables\n",
    "\n",
    "# create a landcover map\n",
    "landcover = xr.concat([xr.zeros_like(liu_data[0,:,:]) for i in range(3)],dim='landcover')\n",
    "landcover['landcover'] = ['forest','nonforest','barren']\n",
    "\n",
    "# create random land cover map. Use Dirichlet random variables to ensure that the sum of the land cover types is 1\n",
    "np.random.seed(0)\n",
    "landcover = (landcover + np.random.dirichlet(np.ones(3),size=landcover.shape[1:]).transpose(2,0,1)).where(liu_data[0,:,:].notnull())\n",
    "\n",
    "# create random biomass densities for the different ecoregions\n",
    "np.random.seed(1000)\n",
    "biomass_densities = np.random.uniform(0,200,[wwf_ecoregions.shape[0],2])\n",
    "\n",
    "# set the ecoregions id to be the order of the ecoregions to be consistent with the random biomass density data\n",
    "wwf_ecoregions['id']=np.arange(wwf_ecoregions.shape[0])\n",
    "\n",
    "# convert the vector ecoregion data to a raster to create the map based on which the biomass densities will be determined\n",
    "ecoregion_raster = make_geocube(vector_data=wwf_ecoregions,measurements=['id'],like= landcover)['id'].fillna(-1)\n",
    "\n",
    "# create biomass density map \n",
    "biomass_density_map = biomass_densities[ecoregion_raster.values.astype(int)].transpose(2,0,1)\n",
    "# biomass_density_map = biomass_density_map + np.random.normal(0,1,biomass_density_map.shape)\n",
    "\n",
    "# create the biomass map by multiplying the biomass densities with the landcover map\n",
    "biomass_map = biomass_density_map * landcover[:2,:,:] \n",
    "\n",
    "# expand the dimensions of the biomass map and the landcover map to have a time dimension\n",
    "biomass_map = biomass_map.expand_dims('time')\n",
    "\n",
    "# for the landcover map, take only the forest and nonforest landcover types\n",
    "landcover = landcover.expand_dims('time')[:,:2,:,:]"
   ]
  },
  {
   "cell_type": "markdown",
   "metadata": {},
   "source": [
    "### 1.3.2. Run the analysis"
   ]
  },
  {
   "cell_type": "code",
   "execution_count": 164,
   "metadata": {},
   "outputs": [],
   "source": [
    "r = split_biomass(biomass     = biomass_map.sum(dim='landcover'),\n",
    "                       area_frac   = landcover,\n",
    "                       density_args   = landcover,\n",
    "                       regions       = wwf_ecoregions,\n",
    "                       method         = 'song'\n",
    "                       \n",
    "                       )"
   ]
  },
  {
   "cell_type": "markdown",
   "metadata": {},
   "source": [
    "### 1.3.3. Compare the results against the simulation"
   ]
  },
  {
   "cell_type": "code",
   "execution_count": 165,
   "metadata": {},
   "outputs": [
    {
     "data": {
      "text/plain": [
       "<matplotlib.collections.QuadMesh at 0x7fd088a77b50>"
      ]
     },
     "execution_count": 165,
     "metadata": {},
     "output_type": "execute_result"
    },
    {
     "data": {
      "image/png": "[encoded data removed]",
      "text/plain": [
       "<Figure size 640x480 with 2 Axes>"
      ]
     },
     "metadata": {},
     "output_type": "display_data"
    }
   ],
   "source": [
    "(biomass_map[0,0,:,:]-r[0,0,:,:]).plot(vmin=-1,vmax=1,cmap='RdBu_r')"
   ]
  },
  {
   "cell_type": "markdown",
   "metadata": {},
   "source": [
    "## 2. Testing the sum of the landcover types"
   ]
  },
  {
   "cell_type": "markdown",
   "metadata": {},
   "source": [
    "## 2.1. Load the data"
   ]
  },
  {
   "cell_type": "markdown",
   "metadata": {},
   "source": [
    "### [Liu et al. (2015)](https://www.nature.com/articles/nclimate2581)"
   ]
  },
  {
   "cell_type": "code",
   "execution_count": 2,
   "metadata": {},
   "outputs": [],
   "source": [
    "liu_data = rio.open_rasterio('../data/biomass/liu_et_al_2015/Global_annual_mean_ABC_lc2001_1993_2012_20150331.nc',masked=True)['Aboveground Biomass Carbon']\n",
    "\n",
    "# set the coordinatess to the same as the other datasets\n",
    "liu_data = xr.DataArray(data=liu_data.values.swapaxes(2,1)[:,:,::-1],\n",
    "                    coords=[liu_data['time'].values,np.linspace(89.875,-89.875,720),np.linspace(-179.875,179.875,1440)],\n",
    "                    dims=['time','y','x'])\n",
    "liu_data = liu_data.rio.write_crs(4326)\n",
    "liu_data['time'] = liu_data['time'].astype(int)"
   ]
  },
  {
   "cell_type": "markdown",
   "metadata": {},
   "source": [
    "### [Xu et al. (2021)](https://www.science.org/doi/10.1126/sciadv.abe9829)"
   ]
  },
  {
   "cell_type": "code",
   "execution_count": 3,
   "metadata": {},
   "outputs": [],
   "source": [
    "# Load data\n",
    "xu_data = rio.open_rasterio('../data/biomass/xu_et_al_2021/test10a_cd_ab_pred_corr_2000_2019_v2.tif',masked=True,chunks='auto')\n",
    "\n",
    "# set the year dimension to by integer years\n",
    "xu_data['time'] = xu_data['time'].dt.year"
   ]
  },
  {
   "cell_type": "markdown",
   "metadata": {},
   "source": [
    "### [Chen et al. (2023)](https://essd.copernicus.org/articles/15/897/2023/)"
   ]
  },
  {
   "cell_type": "code",
   "execution_count": 4,
   "metadata": {},
   "outputs": [],
   "source": [
    "# Load data\n",
    "files = [sorted(glob(f'../data/biomass/chen_et_al_2023/DATA/{i}/*.tif')) for i in ['AGBC','BGBC']]\n",
    "chen_agb = xr.open_mfdataset(files[0],concat_dim='time',combine='nested').squeeze()['band_data']\n",
    "chen_bgb = xr.open_mfdataset(files[1],concat_dim='time',combine='nested').squeeze()['band_data']\n",
    "\n",
    "# combine above and below ground biomass\n",
    "chen_data = chen_agb.copy()\n",
    "chen_data[:] = chen_agb.values + chen_bgb.values\n",
    "\n",
    "# set the time dimension to integer years\n",
    "chen_data['time'] = [int(i.split('.')[2][-4:]) for i in files[0]]\n",
    "\n",
    "# set the nodata variable\n",
    "chen_data.rio.set_nodata(np.nan,inplace=True)\n",
    "\n",
    "# down sample to 0.1 degree resolution\n",
    "chen_data = down_sample(chen_data,x_factor=12,y_factor=12,stat='mean')\n",
    "chen_data = chen_data.where(chen_data>0)\n",
    "\n",
    "# drop year 2021\n",
    "chen_data = chen_data.sel(time=chen_data['time']!=2021)"
   ]
  },
  {
   "cell_type": "markdown",
   "metadata": {},
   "source": [
    "### L-VOD data"
   ]
  },
  {
   "cell_type": "code",
   "execution_count": 5,
   "metadata": {},
   "outputs": [],
   "source": [
    "LVOD_data = xr.open_dataset('../data/biomass/LVOD/AGC_vod_annual_NOAA_Trend_corrected_lat_lon_merged.nc')['AGC_ASC_DESC']\n",
    "LVOD_data.rio.write_crs(4326,inplace=True);\n",
    "\n",
    "LVOD_data_ASC_DESC = LVOD_data[0,:,:,:]\n",
    "LVOD_data_ASC_DESC_max = LVOD_data[1,:,:,:]\n",
    "LVOD_data_ASC_DESC_min = LVOD_data[2,:,:,:]"
   ]
  },
  {
   "cell_type": "markdown",
   "metadata": {},
   "source": [
    "## 2.2. Run the analysis"
   ]
  },
  {
   "cell_type": "code",
   "execution_count": 7,
   "metadata": {},
   "outputs": [
    {
     "name": "stdout",
     "output_type": "stream",
     "text": [
      "../results/01_split_forest_nonforest/liu_biomass_xu.nc: 0.008\n",
      "../results/01_split_forest_nonforest/liu_biomass_song.nc: 0.009\n"
     ]
    }
   ],
   "source": [
    "# find all results of the analysis\n",
    "files = glob('../results/01_split_forest_nonforest/*.nc')\n",
    "\n",
    "# extract the source dataset for each file\n",
    "file_source = pd.Series(files).str.split('/').str[-1].str.split('_').str[0].values\n",
    "\n",
    "# define a dictionary which maps the name of the source dataset to the respective variable\n",
    "reference_dict = {'xu':xu_data,'liu':liu_data,'chen':chen_data,'LVOD':LVOD_data_ASC_DESC,'LVODmax':LVOD_data_ASC_DESC_max,'LVODmin':LVOD_data_ASC_DESC_min}\n",
    "\n",
    "# run over each file\n",
    "for i in range(len(files)):\n",
    "\n",
    "    # load the result file\n",
    "    ds = xr.open_dataarray(files[i])\n",
    "\n",
    "    # calculate the total biomass for each time summing over landcovers\n",
    "    ds_sum = (100*ds.sum(dim='landcover')*calc_area(ds)).sum(dim=['x','y'])\n",
    "\n",
    "    # calculate the total biomass for each time for the original data\n",
    "    ref_sun = (100*reference_dict[file_source[i]]*calc_area(reference_dict[file_source[i]])).sum(dim=['x','y'])\n",
    "\n",
    "    # calculate the relative difference between the results\n",
    "    diff = (1-ds_sum/ref_sun)\n",
    "\n",
    "    # print the maximal difference across years\n",
    "    print(f'{files[i]}: {diff.max().values:.3f}')\n",
    "\n",
    "    # assert that the maximal difference is less than 5%\n",
    "    assert any((1-ds_sum/ref_sun) < 0.05), \"FAIL\""
   ]
  },
  {
   "cell_type": "code",
   "execution_count": 12,
   "metadata": {},
   "outputs": [
    {
     "name": "stdout",
     "output_type": "stream",
     "text": [
      "../results/01_split_forest_nonforest/liu_biomass_xu.nc: analyzed:-0.11, original:-0.11 0.012\n",
      "../results/01_split_forest_nonforest/liu_biomass_song.nc: analyzed:-0.11, original:-0.11 0.031\n",
      "../results/01_split_forest_nonforest/liu_biomass_CCI.nc: analyzed:-0.11, original:-0.11 0.013\n",
      "../results/01_split_forest_nonforest/xu_biomass_xu.nc: analyzed:0.24, original:0.24 0.000\n",
      "../results/01_split_forest_nonforest/xu_biomass_song.nc: analyzed:0.23, original:0.24 0.010\n",
      "../results/01_split_forest_nonforest/xu_biomass_CCI.nc: analyzed:0.26, original:0.24 0.108\n",
      "../results/01_split_forest_nonforest/chen_biomass_xu.nc: analyzed:0.12, original:0.12 0.000\n",
      "../results/01_split_forest_nonforest/chen_biomass_song.nc: analyzed:0.11, original:0.12 0.008\n",
      "../results/01_split_forest_nonforest/chen_biomass_CCI.nc: analyzed:0.12, original:0.12 0.000\n",
      "../results/01_split_forest_nonforest/LVOD_xu.nc: analyzed:3.02, original:3.18 0.050\n",
      "../results/01_split_forest_nonforest/LVOD_song.nc: analyzed:3.02, original:3.18 0.048\n",
      "../results/01_split_forest_nonforest/LVOD_CCI.nc: analyzed:3.02, original:3.18 0.048\n",
      "../results/01_split_forest_nonforest/LVODmax_xu.nc: analyzed:4.08, original:4.35 0.063\n",
      "../results/01_split_forest_nonforest/LVODmax_song.nc: analyzed:4.08, original:4.35 0.062\n",
      "../results/01_split_forest_nonforest/LVODmax_CCI.nc: analyzed:4.08, original:4.35 0.062\n",
      "../results/01_split_forest_nonforest/LVODmin_xu.nc: analyzed:1.52, original:1.54 0.014\n",
      "../results/01_split_forest_nonforest/LVODmin_song.nc: analyzed:1.51, original:1.54 0.015\n",
      "../results/01_split_forest_nonforest/LVODmin_CCI.nc: analyzed:1.52, original:1.54 0.013\n"
     ]
    }
   ],
   "source": [
    "# find all results of the analysis\n",
    "files = glob('../results/01_split_forest_nonforest/*.nc')\n",
    "\n",
    "# extract the source dataset for each file\n",
    "file_source = pd.Series(files).str.split('/').str[-1].str.split('_').str[0].values\n",
    "\n",
    "# define a dictionary which maps the name of the source dataset to the respective variable\n",
    "reference_dict = {'xu':xu_data,'liu':liu_data,'chen':chen_data,'LVOD':LVOD_data_ASC_DESC,'LVODmax':LVOD_data_ASC_DESC_max,'LVODmin':LVOD_data_ASC_DESC_min}\n",
    "\n",
    "# run over each file\n",
    "for i in range(len(files)):\n",
    "\n",
    "    # load the result file\n",
    "    ds = xr.open_dataarray(files[i])\n",
    "\n",
    "    # calculate the total biomass for each time summing over landcovers\n",
    "    ds_sum = (100*ds.sum(dim='landcover')*calc_area(ds)).sum(dim=['x','y']).diff(dim='time').mean(dim='time').sum()\n",
    "\n",
    "    # calculate the total biomass for each time for the original data\n",
    "    ref_sun = (100*reference_dict[file_source[i]]*calc_area(reference_dict[file_source[i]])).sum(dim=['x','y']).diff(dim='time').mean(dim='time')\n",
    "\n",
    "    # calculate the relative difference between the results\n",
    "    diff = np.abs(1-ds_sum/ref_sun)\n",
    "\n",
    "    # print the maximal difference across years\n",
    "    print(f'{files[i]}: analyzed:{ds_sum.values/1e15:.2f}, original:{ref_sun.values/1e15:.2f} {diff.max().values:.3f}')\n",
    "\n",
    "    # assert that the maximal difference is less than 15%\n",
    "    # assert np.abs(1-ds_sum/ref_sun) < 0.15, \"FAIL\""
   ]
  }
 ],
 "metadata": {
  "kernelspec": {
   "display_name": ".venv",
   "language": "python",
   "name": "python3"
  },
  "language_info": {
   "codemirror_mode": {
    "name": "ipython",
    "version": 3
   },
   "file_extension": ".py",
   "mimetype": "text/x-python",
   "name": "python",
   "nbconvert_exporter": "python",
   "pygments_lexer": "ipython3",
   "version": "3.11.9"
  }
 },
 "nbformat": 4,
 "nbformat_minor": 2
}
