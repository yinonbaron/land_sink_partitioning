{
 "cells": [
  {
   "cell_type": "code",
   "execution_count": 2,
   "metadata": {},
   "outputs": [],
   "source": [
    "import xarray as xr\n",
    "import rioxarray as rio\n",
    "import pandas as pd\n",
    "import numpy as np\n",
    "from glob import glob\n",
    "from itertools import product\n",
    "import os\n",
    "import sys\n",
    "from pathlib import Path\n",
    "sys.path.append(str(Path(os.getcwd()).parent) + \"/code/\")\n",
    "from utils import *"
   ]
  },
  {
   "cell_type": "code",
   "execution_count": 3,
   "metadata": {},
   "outputs": [],
   "source": [
    "step0 = rio.open_rasterio('../data/biomass/liu_et_al_2015/Global_annual_mean_ABC_lc2001_1993_2012_20150331.nc',masked=True)['Aboveground Biomass Carbon']\n",
    "\n",
    "# set the coordinatess to the same as the other datasets\n",
    "step0 = xr.DataArray(data=step0.values.swapaxes(2,1)[:,:,::-1],\n",
    "                    coords=[step0['time'].values,np.linspace(89.875,-89.875,720),np.linspace(-179.875,179.875,1440)],\n",
    "                    dims=['time','y','x'])\n",
    "step0 = step0.rio.write_crs(4326)\n",
    "step0['time'] = step0['time'].astype(int)\n",
    "\n",
    "step0_rate = (100*step0*calc_area(step0)).sum(dim=['x','y']).diff(dim='time').mean().values/1e15\n",
    "biomass_source = 'liu_biomass'\n"
   ]
  },
  {
   "cell_type": "code",
   "execution_count": 4,
   "metadata": {},
   "outputs": [],
   "source": [
    "LVOD_data = xr.open_dataset('../data/biomass/LVOD/AGC_vod_annual_NOAA_Trend_corrected_lat_lon_merged.nc')['AGC_ASC_DESC']\n",
    "LVOD_data.rio.write_crs(4326,inplace=True);\n",
    "\n",
    "LVOD_data_ASC_DESC = LVOD_data[0,:,:,:]\n",
    "LVOD_data_ASC_DESC_max = LVOD_data[1,:,:,:]\n",
    "LVOD_data_ASC_DESC_min = LVOD_data[2,:,:,:]\n",
    "\n",
    "step0_rate = (100*LVOD_data_ASC_DESC*calc_area(LVOD_data_ASC_DESC)).sum(dim=['x','y']).diff(dim='time').mean().values/1e15\n",
    "biomass_source = 'LVOD'#'liu_biomass'"
   ]
  },
  {
   "cell_type": "code",
   "execution_count": 5,
   "metadata": {},
   "outputs": [
    {
     "name": "stdout",
     "output_type": "stream",
     "text": [
      "step 1 rate for xu: 3.1751 PgC/yr and difference from step 0 is: -0.0000\n",
      "step 1 rate for CCI: 3.1751 PgC/yr and difference from step 0 is: 0.0000\n",
      "step 1 rate for song: 3.1751 PgC/yr and difference from step 0 is: 0.0000\n"
     ]
    }
   ],
   "source": [
    "\n",
    "fsm = ['xu','CCI','song']\n",
    "step1_rates = {}\n",
    "for f in fsm:\n",
    "    step1 = xr.open_dataarray(f'../results/01_split_forest_nonforest/{biomass_source}_{f}.nc')\n",
    "    step1_rate = (100*step1*calc_area(step1)).sum(dim=['x','y','landcover']).diff(dim='time').mean().values/1e15\n",
    "    step1_rates[f] = step1_rate\n",
    "    print(f'step 1 rate for {f}: {step1_rate:.4f} PgC/yr and difference from step 0 is: {step1_rate-step0_rate:.4f}')"
   ]
  },
  {
   "cell_type": "code",
   "execution_count": 6,
   "metadata": {},
   "outputs": [
    {
     "name": "stdout",
     "output_type": "stream",
     "text": [
      "step 2 rate for xu,huang: 3.7586 PgC/yr; the ratio between AGB and TB is: 1.18\n",
      "step 2 rate for xu,ma: 4.5014 PgC/yr; the ratio between AGB and TB is: 1.42\n",
      "step 2 rate for CCI,huang: 3.7586 PgC/yr; the ratio between AGB and TB is: 1.18\n",
      "step 2 rate for CCI,ma: 4.5014 PgC/yr; the ratio between AGB and TB is: 1.42\n",
      "step 2 rate for song,huang: 3.7586 PgC/yr; the ratio between AGB and TB is: 1.18\n",
      "step 2 rate for song,ma: 4.5014 PgC/yr; the ratio between AGB and TB is: 1.42\n"
     ]
    }
   ],
   "source": [
    "\n",
    "fsm = ['xu','CCI','song']\n",
    "RMFS = ['huang','ma']\n",
    "step2_rates = {}\n",
    "for f,r in product(fsm,RMFS):\n",
    "    step2 = xr.open_dataarray(f'../results/02_convert_AGB_TB/{biomass_source}_{f}_{r}_TB.nc')\n",
    "    step2_rate = (100*step2*calc_area(step2)).sum(dim=['x','y','landcover']).diff(dim='time').mean().values/1e15\n",
    "    step2_rates['_'.join([f,r])] = step2_rate\n",
    "    print(f'step 2 rate for {f},{r}: {step2_rate:.4f} PgC/yr; the ratio between AGB and TB is: {step2_rate/step1_rates[f]:.2f}')"
   ]
  },
  {
   "cell_type": "code",
   "execution_count": 7,
   "metadata": {},
   "outputs": [
    {
     "name": "stdout",
     "output_type": "stream",
     "text": [
      "step 3 rate for xu,huang: 4.5014 PgC/yr; the difference from step 2 is: -0.00000\n",
      "step 3 rate for xu,ma: 4.5014 PgC/yr; the difference from step 2 is: 0.00000\n",
      "step 3 rate for CCI,huang: 4.5014 PgC/yr; the difference from step 2 is: -0.00000\n",
      "step 3 rate for CCI,ma: 4.5014 PgC/yr; the difference from step 2 is: 0.00000\n",
      "step 3 rate for song,huang: 4.5014 PgC/yr; the difference from step 2 is: -0.00000\n",
      "step 3 rate for song,ma: 4.5014 PgC/yr; the difference from step 2 is: -0.00000\n"
     ]
    }
   ],
   "source": [
    "fsm = ['xu','CCI','song']\n",
    "RMFS = ['huang','ma']\n",
    "step3_rates = {}\n",
    "for f,r in product(fsm,RMFS):\n",
    "    step3 = pd.read_csv(f'../results/03_aggregate_regions/{biomass_source}_{f}_{r}_TB_regions.csv',index_col=[0,1])\n",
    "    step3_rate = step3.sum().diff().mean()/1e15\n",
    "    step3_rates['_'.join([f,r])] = step3_rate\n",
    "    print(f'step 3 rate for {f},{r}: {step2_rate:.4f} PgC/yr; the difference from step 2 is: {step3_rate-step2_rates[\"_\".join([f,r])]:.5f}')"
   ]
  },
  {
   "cell_type": "code",
   "execution_count": 8,
   "metadata": {},
   "outputs": [
    {
     "name": "stdout",
     "output_type": "stream",
     "text": [
      "step 4 rate for xu,huang: 4.5014 PgC/yr; the difference from step 3 is: -0.00000\n",
      "step 4 rate for xu,ma: 4.5014 PgC/yr; the difference from step 3 is: -0.00000\n",
      "step 4 rate for CCI,huang: 4.5014 PgC/yr; the difference from step 3 is: 0.00000\n",
      "step 4 rate for CCI,ma: 4.5014 PgC/yr; the difference from step 3 is: 0.00000\n",
      "step 4 rate for song,huang: 4.5014 PgC/yr; the difference from step 3 is: -0.00000\n",
      "step 4 rate for song,ma: 4.5014 PgC/yr; the difference from step 3 is: -0.00000\n"
     ]
    }
   ],
   "source": [
    "fsm = ['xu','CCI','song']\n",
    "RMFS = ['huang','ma']\n",
    "step4_rates = {}\n",
    "for f,r in product(fsm,RMFS):\n",
    "    step4 = pd.read_csv('../results/04_temporal_harmonization/harmonized_biomass_data.csv',index_col=[0,1,2,3])\n",
    "    step4_rate = step4.loc[pd.IndexSlice[biomass_source.split('_biomass')[0],f'{biomass_source}_{f}_{r}_TB_regions',:,:],:].mean(axis=1).sum()/1e15\n",
    "    if biomass_source == 'LVOD':\n",
    "        step4_rate = step4_rate*9\n",
    "    step4_rates['_'.join([f,r])] = step4_rate\n",
    "    print(f'step 4 rate for {f},{r}: {step2_rate:.4f} PgC/yr; the difference from step 3 is: {step4_rate-step3_rates[\"_\".join([f,r])]:.5f}')\n",
    "# print(f'step 4 rate: {step4_rate:.4f} PgC/yr')"
   ]
  }
 ],
 "metadata": {
  "kernelspec": {
   "display_name": ".venv",
   "language": "python",
   "name": "python3"
  },
  "language_info": {
   "codemirror_mode": {
    "name": "ipython",
    "version": 3
   },
   "file_extension": ".py",
   "mimetype": "text/x-python",
   "name": "python",
   "nbconvert_exporter": "python",
   "pygments_lexer": "ipython3",
   "version": "3.11.9"
  }
 },
 "nbformat": 4,
 "nbformat_minor": 2
}
