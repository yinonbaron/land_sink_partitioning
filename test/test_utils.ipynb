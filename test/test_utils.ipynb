{
 "cells": [
  {
   "cell_type": "code",
   "execution_count": 3,
   "metadata": {},
   "outputs": [],
   "source": [
    "import xarray as xr\n",
    "import rioxarray as rio\n",
    "# import utils file\n",
    "import os\n",
    "import sys\n",
    "from pathlib import Path\n",
    "sys.path.append(str(Path(os.getcwd()).parent) + \"/code/\")\n",
    "import utils"
   ]
  },
  {
   "cell_type": "markdown",
   "metadata": {},
   "source": [
    "# Test `calc_area`"
   ]
  },
  {
   "cell_type": "code",
   "execution_count": 29,
   "metadata": {},
   "outputs": [],
   "source": [
    "# create mock data for testing that has dimenstions of 18 by 36 and is filled with ones\n",
    "xu_data = rio.open_rasterio('../data/biomass/xu_et_al_2021/test10a_cd_ab_pred_corr_2000_2019_v2.tif')[0,:,:]\n",
    "uniform_data = xr.ones_like(xu_data.rio.reproject(xu_data.rio.crs,shape=[18,36]))\n",
    "\n",
    "# load reference surface area map used to calculate surface area\n",
    "surf_area = rio.open_rasterio('../results/00_preprocessing/land_surface_area.nc').sel(band=1).drop_vars('band')\n",
    "\n",
    "# test that the calc_area function is returning global values similar to the original surfance area map\n",
    "assert abs((utils.calc_area(uniform_data).sum()- surf_area.sum())/surf_area.sum()) < 1e-3, \"FAILED\""
   ]
  },
  {
   "cell_type": "markdown",
   "metadata": {},
   "source": [
    "# Test `raster_vector_zonal_stats`"
   ]
  },
  {
   "cell_type": "code",
   "execution_count": null,
   "metadata": {},
   "outputs": [],
   "source": [
    "utils.raster_vector_zonal_stats"
   ]
  },
  {
   "cell_type": "markdown",
   "metadata": {},
   "source": [
    "# Test `down_sample`"
   ]
  },
  {
   "cell_type": "code",
   "execution_count": 38,
   "metadata": {},
   "outputs": [],
   "source": [
    "# load a test map for testing the down_sample function\n",
    "surf_area = rio.open_rasterio('../results/00_preprocessing/land_surface_area.nc').sel(band=1).drop_vars('band')\n",
    "\n",
    "# calculate down smapled surface area map\n",
    "sa_ds = utils.down_sample(surf_area,x_factor=10, y_factor=5, stat='sum')\n",
    "\n",
    "# assert that the total sum remains the same\n",
    "assert abs(sa_ds.sum() - surf_area.sum())/surf_area.sum() < 1e-4 , \"FAILED\""
   ]
  }
 ],
 "metadata": {
  "kernelspec": {
   "display_name": ".venv",
   "language": "python",
   "name": "python3"
  },
  "language_info": {
   "codemirror_mode": {
    "name": "ipython",
    "version": 3
   },
   "file_extension": ".py",
   "mimetype": "text/x-python",
   "name": "python",
   "nbconvert_exporter": "python",
   "pygments_lexer": "ipython3",
   "version": "3.11.9"
  }
 },
 "nbformat": 4,
 "nbformat_minor": 2
}
