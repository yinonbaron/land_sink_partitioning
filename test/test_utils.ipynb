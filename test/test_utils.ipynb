{
 "cells": [
  {
   "cell_type": "code",
   "execution_count": 1,
   "metadata": {},
   "outputs": [],
   "source": [
    "import xarray as xr\n",
    "import rioxarray as rio\n",
    "import geopandas as gpd\n",
    "import pandas as pd\n",
    "\n",
    "# import utils file\n",
    "import os\n",
    "import sys\n",
    "from pathlib import Path\n",
    "sys.path.append(str(Path(os.getcwd()).parent) + \"/code/\")\n",
    "import utils"
   ]
  },
  {
   "cell_type": "markdown",
   "metadata": {},
   "source": [
    "# Test `calc_area`"
   ]
  },
  {
   "cell_type": "code",
   "execution_count": 2,
   "metadata": {},
   "outputs": [],
   "source": [
    "# create mock data for testing that has dimenstions of 18 by 36 and is filled with ones\n",
    "xu_data = rio.open_rasterio('../data/biomass/xu_et_al_2021/test10a_cd_ab_pred_corr_2000_2019_v2.tif')[0,:,:]\n",
    "uniform_data = xr.ones_like(xu_data.rio.reproject(xu_data.rio.crs,shape=[18,36]))\n",
    "\n",
    "# load reference surface area map used to calculate surface area\n",
    "surf_area = rio.open_rasterio('../results/00_preprocessing/land_surface_area.nc').sel(band=1).drop_vars('band')\n",
    "\n",
    "# test that the calc_area function is returning global values similar to the original surfance area map\n",
    "assert abs((utils.calc_area(uniform_data).sum()- surf_area.sum())/surf_area.sum()) < 1e-3, \"FAILED\""
   ]
  },
  {
   "cell_type": "markdown",
   "metadata": {},
   "source": [
    "# Test `raster_vector_zonal_stats`\n",
    "\n",
    "Test by calculating the area of each continent and comparing to results froom wikipedia"
   ]
  },
  {
   "cell_type": "code",
   "execution_count": 4,
   "metadata": {},
   "outputs": [],
   "source": [
    "# load country data\n",
    "countries_data = gpd.read_file('../data/country_data/country_data_w_RECCAP_Pan_FAO.shp')\n",
    "countries_data['id'] = countries_data.index\n",
    "continents = countries_data.dissolve('CONTINENT')\n",
    "\n",
    "# load surface area file\n",
    "surf_area = rio.open_rasterio('../results/00_preprocessing/land_surface_area.nc').sel(band=1).drop_vars('band')\n",
    "\n",
    "# calculate the land area (incl. rivers) for the surface\n",
    "sa = utils.calc_pixel_area(surf_area).where(surf_area>0)\n",
    "\n",
    "# raster_vector_zonal_stat to calculate the area of each continent\n",
    "continents['area'] = utils.raster_vector_zonal_stats(continents.reset_index(), sa, 'sum',interp=True).values\n",
    "\n",
    "# define the reference data from wikipedia\n",
    "\n",
    "# https://en.wikipedia.org/wiki/Continent\n",
    "ref_sa = pd.Series([30365000e6, 44614000e6, 10000000e6, 24230000e6, 8510926e6, 17814000e6,14200000e6],index= ['Africa', 'Asia', 'Europe', 'North America', 'Oceania', 'South America','Antarctica'])\n",
    "\n",
    "# find the relative difference between the calculated and the reference data\n",
    "diff = continents['area'].sub(ref_sa,axis=0)\n",
    "\n",
    "# sum the differences for Asia and Europe to get Eurasia\n",
    "diff['Eurasia']  = diff.loc[['Asia','Europe']].sum()\n",
    "ref_sa['Eurasia'] = ref_sa.loc[['Asia','Europe']].sum()\n",
    "ref_sa.drop(['Asia','Europe'],inplace=True)\n",
    "diff.drop(['Asia','Europe'],inplace=True)\n",
    "\n",
    "# calculate the relative difference\n",
    "diff = diff/ref_sa\n",
    "\n",
    "# make sure the differences are less than 15%\n",
    "assert (diff.abs().fillna(0)<0.15).all(), \"FAIL\""
   ]
  },
  {
   "cell_type": "markdown",
   "metadata": {},
   "source": [
    "# Test `down_sample`"
   ]
  },
  {
   "cell_type": "code",
   "execution_count": 38,
   "metadata": {},
   "outputs": [],
   "source": [
    "# load a test map for testing the down_sample function\n",
    "surf_area = rio.open_rasterio('../results/00_preprocessing/land_surface_area.nc').sel(band=1).drop_vars('band')\n",
    "\n",
    "# calculate down smapled surface area map\n",
    "sa_ds = utils.down_sample(surf_area,x_factor=10, y_factor=5, stat='sum')\n",
    "\n",
    "# assert that the total sum remains the same\n",
    "assert abs(sa_ds.sum() - surf_area.sum())/surf_area.sum() < 1e-4 , \"FAILED\""
   ]
  }
 ],
 "metadata": {
  "kernelspec": {
   "display_name": ".venv",
   "language": "python",
   "name": "python3"
  },
  "language_info": {
   "codemirror_mode": {
    "name": "ipython",
    "version": 3
   },
   "file_extension": ".py",
   "mimetype": "text/x-python",
   "name": "python",
   "nbconvert_exporter": "python",
   "pygments_lexer": "ipython3",
   "version": "3.11.9"
  }
 },
 "nbformat": 4,
 "nbformat_minor": 2
}
